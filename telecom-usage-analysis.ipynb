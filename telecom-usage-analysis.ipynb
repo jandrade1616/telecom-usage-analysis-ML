{
 "cells": [
  {
   "cell_type": "markdown",
   "metadata": {
    "id": "3rYiDeEH0q0f"
   },
   "source": [
    "# ¿Cuál es la mejor tarifa?\n",
    "\n",
    "Trabajas como analista para el operador de telecomunicaciones Megaline. La empresa ofrece a sus clientes dos tarifas de prepago, Surf y Ultimate. El departamento comercial quiere saber cuál de las tarifas genera más ingresos para poder ajustar el presupuesto de publicidad.\n",
    "\n",
    "Vas a realizar un análisis preliminar de las tarifas basado en una selección de clientes relativamente pequeña. Tendrás los datos de 500 clientes de Megaline: quiénes son los clientes, de dónde son, qué tarifa usan, así como la cantidad de llamadas que hicieron y los mensajes de texto que enviaron en 2018. Tu trabajo es analizar el comportamiento de los clientes y determinar qué tarifa de prepago genera más ingresos."
   ]
  },
  {
   "cell_type": "markdown",
   "metadata": {
    "id": "VNddPNRQ0q0w"
   },
   "source": [
    "[Te proporcionamos algunos comentarios para orientarte mientras completas este proyecto. Pero debes asegurarte de eliminar todos los comentarios entre corchetes antes de entregar tu proyecto.]\n",
    "\n",
    "[Antes de sumergirte en el análisis de datos, explica por tu propia cuenta el propósito del proyecto y las acciones que planeas realizar.]\n",
    "\n",
    "[Ten en cuenta que estudiar, modificar y analizar datos es un proceso iterativo. Es normal volver a los pasos anteriores y corregirlos/ampliarlos para permitir nuevos pasos.]"
   ]
  },
  {
   "cell_type": "markdown",
   "metadata": {
    "id": "MQi4IPy70q0y"
   },
   "source": [
    "## Inicialización"
   ]
  },
  {
   "cell_type": "code",
   "execution_count": 1,
   "metadata": {
    "id": "MtYIuBxu0q0z"
   },
   "outputs": [],
   "source": [
    "# Cargar todas las librerías\n",
    "from scipy import stats as st\n",
    "import numpy as np\n",
    "import pandas as pd\n",
    "import math \n"
   ]
  },
  {
   "cell_type": "markdown",
   "metadata": {
    "id": "4ysWWC5i0q00"
   },
   "source": [
    "## Cargar datos"
   ]
  },
  {
   "cell_type": "code",
   "execution_count": 2,
   "metadata": {
    "id": "CCqPW7rS0q01"
   },
   "outputs": [],
   "source": [
    "# Carga los archivos de datos en diferentes DataFrames\n",
    "users = pd.read_csv('/datasets/megaline_users.csv')\n",
    "calls = pd.read_csv('/datasets/megaline_calls.csv')\n",
    "messages = pd.read_csv('/datasets/megaline_messages.csv')\n",
    "internet = pd.read_csv('/datasets/megaline_internet.csv')\n",
    "plans = pd.read_csv('/datasets/megaline_plans.csv')\n"
   ]
  },
  {
   "cell_type": "markdown",
   "metadata": {
    "id": "69qqoJ3r0q01"
   },
   "source": [
    "## Preparar los datos"
   ]
  },
  {
   "cell_type": "markdown",
   "metadata": {
    "id": "vUuZw80S0q01"
   },
   "source": [
    "[Los datos para este proyecto se dividen en varias tablas. Explora cada una para tener una comprensión inicial de los datos. Si es necesario, haz las correcciones requeridas en cada tabla.]"
   ]
  },
  {
   "cell_type": "markdown",
   "metadata": {
    "id": "ohBhimvH0q01"
   },
   "source": [
    "## Tarifas"
   ]
  },
  {
   "cell_type": "code",
   "execution_count": 3,
   "metadata": {
    "id": "GptqP3Q40q02"
   },
   "outputs": [
    {
     "name": "stdout",
     "output_type": "stream",
     "text": [
      "<class 'pandas.core.frame.DataFrame'>\n",
      "RangeIndex: 2 entries, 0 to 1\n",
      "Data columns (total 8 columns):\n",
      " #   Column                 Non-Null Count  Dtype  \n",
      "---  ------                 --------------  -----  \n",
      " 0   messages_included      2 non-null      int64  \n",
      " 1   mb_per_month_included  2 non-null      int64  \n",
      " 2   minutes_included       2 non-null      int64  \n",
      " 3   usd_monthly_pay        2 non-null      int64  \n",
      " 4   usd_per_gb             2 non-null      int64  \n",
      " 5   usd_per_message        2 non-null      float64\n",
      " 6   usd_per_minute         2 non-null      float64\n",
      " 7   plan_name              2 non-null      object \n",
      "dtypes: float64(2), int64(5), object(1)\n",
      "memory usage: 256.0+ bytes\n",
      "       messages_included  mb_per_month_included  minutes_included  \\\n",
      "count           2.000000               2.000000          2.000000   \n",
      "mean          525.000000           23040.000000       1750.000000   \n",
      "std           671.751442           10861.160159       1767.766953   \n",
      "min            50.000000           15360.000000        500.000000   \n",
      "25%           287.500000           19200.000000       1125.000000   \n",
      "50%           525.000000           23040.000000       1750.000000   \n",
      "75%           762.500000           26880.000000       2375.000000   \n",
      "max          1000.000000           30720.000000       3000.000000   \n",
      "\n",
      "       usd_monthly_pay  usd_per_gb  usd_per_message  usd_per_minute  \n",
      "count         2.000000     2.00000         2.000000        2.000000  \n",
      "mean         45.000000     8.50000         0.020000        0.020000  \n",
      "std          35.355339     2.12132         0.014142        0.014142  \n",
      "min          20.000000     7.00000         0.010000        0.010000  \n",
      "25%          32.500000     7.75000         0.015000        0.015000  \n",
      "50%          45.000000     8.50000         0.020000        0.020000  \n",
      "75%          57.500000     9.25000         0.025000        0.025000  \n",
      "max          70.000000    10.00000         0.030000        0.030000  \n"
     ]
    }
   ],
   "source": [
    "# Imprime la información general/resumida sobre el DataFrame de las tarifas\n",
    "plans = pd.read_csv('/datasets/megaline_plans.csv')\n",
    "plans.info()\n",
    "summary_plans = plans.describe()\n",
    "print (summary_plans)"
   ]
  },
  {
   "cell_type": "code",
   "execution_count": 4,
   "metadata": {
    "id": "64xzjwL70q02"
   },
   "outputs": [
    {
     "name": "stdout",
     "output_type": "stream",
     "text": [
      "   messages_included  mb_per_month_included  minutes_included  \\\n",
      "0                 50                  15360               500   \n",
      "1               1000                  30720              3000   \n",
      "\n",
      "   usd_monthly_pay  usd_per_gb  usd_per_message  usd_per_minute plan_name  \n",
      "0               20          10             0.03            0.03      surf  \n",
      "1               70           7             0.01            0.01  ultimate  \n"
     ]
    }
   ],
   "source": [
    "# Imprime una muestra de los datos para las tarifas\n",
    "print (plans.head(10))"
   ]
  },
  {
   "cell_type": "markdown",
   "metadata": {
    "id": "mEc_3_hs0q02"
   },
   "source": [
    "[Describe lo que ves y observas en la información general y en la muestra de datos impresa para el precio de datos anterior. ¿Hay algún problema (tipos de datos no adecuados, datos ausentes, etc.) que pudieran necesitar investigación y cambios adicionales? ¿Cómo se puede arreglar?]\n",
    "\n",
    "En este dataset podemos encontrar informacion descriptiva sobre ambos planes, tambien podemos notar que no hay datos ausentes, los tipos de datos son adecuados y no creo que se necesite realizar una invesigacion o cambios adicionales debido a que solo se desriben caracteisticas generales de los planes."
   ]
  },
  {
   "cell_type": "markdown",
   "metadata": {
    "id": "R3C05i1l0q03"
   },
   "source": [
    "## Corregir datos"
   ]
  },
  {
   "cell_type": "markdown",
   "metadata": {
    "id": "bIi8StZI0q03"
   },
   "source": [
    "[Corrige los problemas obvios con los datos basándote en las observaciones iniciales.] No creo que haya datos que corregir pero igual me puedo asegurar que no haya duplicados, datos nulos y que el tipo de datos sea correcto."
   ]
  },
  {
   "cell_type": "code",
   "execution_count": 5,
   "metadata": {
    "id": "Y7SVmjGn0q03"
   },
   "outputs": [
    {
     "name": "stdout",
     "output_type": "stream",
     "text": [
      "Nombres de las columnas: Index(['messages_included', 'mb_per_month_included', 'minutes_included',\n",
      "       'usd_monthly_pay', 'usd_per_gb', 'usd_per_message', 'usd_per_minute',\n",
      "       'plan_name'],\n",
      "      dtype='object')\n",
      "Número de filas duplicadas: 0\n",
      "Valores nulos en cada columna:\n",
      "messages_included        0\n",
      "mb_per_month_included    0\n",
      "minutes_included         0\n",
      "usd_monthly_pay          0\n",
      "usd_per_gb               0\n",
      "usd_per_message          0\n",
      "usd_per_minute           0\n",
      "plan_name                0\n",
      "dtype: int64\n",
      "Tipos de datos:\n",
      "messages_included          int64\n",
      "mb_per_month_included      int64\n",
      "minutes_included           int64\n",
      "usd_monthly_pay            int64\n",
      "usd_per_gb                 int64\n",
      "usd_per_message          float64\n",
      "usd_per_minute           float64\n",
      "plan_name                 object\n",
      "dtype: object\n"
     ]
    }
   ],
   "source": [
    "print(\"Nombres de las columnas:\", plans.columns)\n",
    "duplicates = plans.duplicated().sum()\n",
    "print(f\"Número de filas duplicadas: {duplicates}\")\n",
    "null_values = plans.isnull().sum()\n",
    "print(\"Valores nulos en cada columna:\")\n",
    "print(null_values)\n",
    "print(\"Tipos de datos:\")\n",
    "print(plans.dtypes)"
   ]
  },
  {
   "cell_type": "markdown",
   "metadata": {
    "id": "LJir7bml0q03"
   },
   "source": [
    "## Enriquecer los datos"
   ]
  },
  {
   "cell_type": "markdown",
   "metadata": {
    "id": "eqADpCfg0q04"
   },
   "source": [
    "[Agrega factores adicionales a los datos si crees que pudieran ser útiles.]\n",
    "No creo que sea neceario agregar factores adicionales."
   ]
  },
  {
   "cell_type": "markdown",
   "metadata": {
    "id": "1n2X6WXf0q04"
   },
   "source": [
    "## Usuarios/as"
   ]
  },
  {
   "cell_type": "code",
   "execution_count": 6,
   "metadata": {
    "id": "2NgjWFqx0q05"
   },
   "outputs": [
    {
     "name": "stdout",
     "output_type": "stream",
     "text": [
      "<class 'pandas.core.frame.DataFrame'>\n",
      "RangeIndex: 500 entries, 0 to 499\n",
      "Data columns (total 8 columns):\n",
      " #   Column      Non-Null Count  Dtype \n",
      "---  ------      --------------  ----- \n",
      " 0   user_id     500 non-null    int64 \n",
      " 1   first_name  500 non-null    object\n",
      " 2   last_name   500 non-null    object\n",
      " 3   age         500 non-null    int64 \n",
      " 4   city        500 non-null    object\n",
      " 5   reg_date    500 non-null    object\n",
      " 6   plan        500 non-null    object\n",
      " 7   churn_date  34 non-null     object\n",
      "dtypes: int64(2), object(6)\n",
      "memory usage: 31.4+ KB\n",
      "           user_id         age\n",
      "count   500.000000  500.000000\n",
      "mean   1249.500000   45.486000\n",
      "std     144.481833   16.972269\n",
      "min    1000.000000   18.000000\n",
      "25%    1124.750000   30.000000\n",
      "50%    1249.500000   46.000000\n",
      "75%    1374.250000   61.000000\n",
      "max    1499.000000   75.000000\n"
     ]
    }
   ],
   "source": [
    "# Imprime la información general/resumida sobre el DataFrame de usuarios\n",
    "users = pd.read_csv('/datasets/megaline_users.csv')\n",
    "users.info()\n",
    "summary_users = users.describe()\n",
    "print (summary_users)\n"
   ]
  },
  {
   "cell_type": "code",
   "execution_count": 7,
   "metadata": {
    "id": "1IN1L9uh0q05"
   },
   "outputs": [
    {
     "name": "stdout",
     "output_type": "stream",
     "text": [
      "   user_id first_name  last_name  age                                    city  \\\n",
      "0     1000   Anamaria      Bauer   45   Atlanta-Sandy Springs-Roswell, GA MSA   \n",
      "1     1001     Mickey  Wilkerson   28         Seattle-Tacoma-Bellevue, WA MSA   \n",
      "2     1002     Carlee    Hoffman   36    Las Vegas-Henderson-Paradise, NV MSA   \n",
      "3     1003   Reynaldo    Jenkins   52                           Tulsa, OK MSA   \n",
      "4     1004    Leonila   Thompson   40         Seattle-Tacoma-Bellevue, WA MSA   \n",
      "5     1005      Livia    Shields   31     Dallas-Fort Worth-Arlington, TX MSA   \n",
      "6     1006     Jesusa   Bradford   73  San Francisco-Oakland-Berkeley, CA MSA   \n",
      "7     1007    Eusebio      Welch   42           Grand Rapids-Kentwood, MI MSA   \n",
      "8     1008      Emely    Hoffman   53       Orlando-Kissimmee-Sanford, FL MSA   \n",
      "9     1009      Gerry     Little   19  San Jose-Sunnyvale-Santa Clara, CA MSA   \n",
      "\n",
      "     reg_date      plan  churn_date  \n",
      "0  2018-12-24  ultimate         NaN  \n",
      "1  2018-08-13      surf         NaN  \n",
      "2  2018-10-21      surf         NaN  \n",
      "3  2018-01-28      surf         NaN  \n",
      "4  2018-05-23      surf         NaN  \n",
      "5  2018-11-29      surf         NaN  \n",
      "6  2018-11-27  ultimate  2018-12-18  \n",
      "7  2018-07-11      surf         NaN  \n",
      "8  2018-08-03  ultimate         NaN  \n",
      "9  2018-04-22      surf         NaN  \n"
     ]
    }
   ],
   "source": [
    "# Imprime una muestra de datos para usuarios\n",
    "print (users.head(10))\n"
   ]
  },
  {
   "cell_type": "markdown",
   "metadata": {
    "id": "dCZoUq4f0q06"
   },
   "source": [
    "[Describe lo que ves y observas en la información general y en la muestra de datos impresa para el precio de datos anterior. ¿Hay algún problema (tipos de datos no adecuados, datos ausentes, etc.) que pudieran necesitar investigación y cambios adicionales? ¿Cómo se puede arreglar?]\n",
    "En base a los resultados obtenidos podemos observar dos problemas, el primero es que la tabla 'churn_date' tiene una gran cantidad de valores ausentes, esto se debe a que son usuarios que aun han cancelado su plan, por lo que hay que agregar otra columna que diga que siguen activos por si es necesario esta informacion mas adelante, el segundo problema es visible es que reg_date y churn_date estan clasificados como tipos de dato object y estos datos deben ser del tipo datetime."
   ]
  },
  {
   "cell_type": "markdown",
   "metadata": {
    "id": "BX5FQh_I0q06"
   },
   "source": [
    "### Corregir los datos"
   ]
  },
  {
   "cell_type": "markdown",
   "metadata": {
    "id": "8OdKMwJv0q06"
   },
   "source": [
    "[Corrige los problemas obvios con los datos basándote en las observaciones iniciales.]"
   ]
  },
  {
   "cell_type": "code",
   "execution_count": 8,
   "metadata": {
    "id": "yUqX-K0C0q07"
   },
   "outputs": [],
   "source": [
    "users['reg_date'] = pd.to_datetime(users['reg_date'])\n",
    "users['churn_date'] = pd.to_datetime(users['churn_date'], errors='coerce')"
   ]
  },
  {
   "cell_type": "markdown",
   "metadata": {
    "id": "ycwuARJp0q07"
   },
   "source": [
    "### Enriquecer los datos"
   ]
  },
  {
   "cell_type": "markdown",
   "metadata": {
    "id": "96NIh4CJ0q08"
   },
   "source": [
    "[Agrega factores adicionales a los datos si crees que pudieran ser útiles.]"
   ]
  },
  {
   "cell_type": "code",
   "execution_count": 9,
   "metadata": {
    "id": "iq0AaBS90q08"
   },
   "outputs": [
    {
     "name": "stdout",
     "output_type": "stream",
     "text": [
      "<class 'pandas.core.frame.DataFrame'>\n",
      "RangeIndex: 500 entries, 0 to 499\n",
      "Data columns (total 9 columns):\n",
      " #   Column      Non-Null Count  Dtype         \n",
      "---  ------      --------------  -----         \n",
      " 0   user_id     500 non-null    int64         \n",
      " 1   first_name  500 non-null    object        \n",
      " 2   last_name   500 non-null    object        \n",
      " 3   age         500 non-null    int64         \n",
      " 4   city        500 non-null    object        \n",
      " 5   reg_date    500 non-null    datetime64[ns]\n",
      " 6   plan        500 non-null    object        \n",
      " 7   churn_date  34 non-null     datetime64[ns]\n",
      " 8   is_active   500 non-null    bool          \n",
      "dtypes: bool(1), datetime64[ns](2), int64(2), object(4)\n",
      "memory usage: 31.9+ KB\n",
      "None\n",
      "   user_id first_name  last_name  age                                    city  \\\n",
      "0     1000   Anamaria      Bauer   45   Atlanta-Sandy Springs-Roswell, GA MSA   \n",
      "1     1001     Mickey  Wilkerson   28         Seattle-Tacoma-Bellevue, WA MSA   \n",
      "2     1002     Carlee    Hoffman   36    Las Vegas-Henderson-Paradise, NV MSA   \n",
      "3     1003   Reynaldo    Jenkins   52                           Tulsa, OK MSA   \n",
      "4     1004    Leonila   Thompson   40         Seattle-Tacoma-Bellevue, WA MSA   \n",
      "5     1005      Livia    Shields   31     Dallas-Fort Worth-Arlington, TX MSA   \n",
      "6     1006     Jesusa   Bradford   73  San Francisco-Oakland-Berkeley, CA MSA   \n",
      "7     1007    Eusebio      Welch   42           Grand Rapids-Kentwood, MI MSA   \n",
      "8     1008      Emely    Hoffman   53       Orlando-Kissimmee-Sanford, FL MSA   \n",
      "9     1009      Gerry     Little   19  San Jose-Sunnyvale-Santa Clara, CA MSA   \n",
      "\n",
      "    reg_date      plan churn_date  is_active  \n",
      "0 2018-12-24  ultimate        NaT       True  \n",
      "1 2018-08-13      surf        NaT       True  \n",
      "2 2018-10-21      surf        NaT       True  \n",
      "3 2018-01-28      surf        NaT       True  \n",
      "4 2018-05-23      surf        NaT       True  \n",
      "5 2018-11-29      surf        NaT       True  \n",
      "6 2018-11-27  ultimate 2018-12-18      False  \n",
      "7 2018-07-11      surf        NaT       True  \n",
      "8 2018-08-03  ultimate        NaT       True  \n",
      "9 2018-04-22      surf        NaT       True  \n"
     ]
    }
   ],
   "source": [
    "users['is_active'] = users['churn_date'].isna()\n",
    "print(users.info())\n",
    "print(users.head(10))"
   ]
  },
  {
   "cell_type": "markdown",
   "metadata": {
    "id": "o7MeKCid0q08"
   },
   "source": [
    "## Llamadas"
   ]
  },
  {
   "cell_type": "code",
   "execution_count": 10,
   "metadata": {
    "id": "6dDlnoDm0q08"
   },
   "outputs": [
    {
     "name": "stdout",
     "output_type": "stream",
     "text": [
      "<class 'pandas.core.frame.DataFrame'>\n",
      "RangeIndex: 137735 entries, 0 to 137734\n",
      "Data columns (total 4 columns):\n",
      " #   Column     Non-Null Count   Dtype  \n",
      "---  ------     --------------   -----  \n",
      " 0   id         137735 non-null  object \n",
      " 1   user_id    137735 non-null  int64  \n",
      " 2   call_date  137735 non-null  object \n",
      " 3   duration   137735 non-null  float64\n",
      "dtypes: float64(1), int64(1), object(2)\n",
      "memory usage: 4.2+ MB\n",
      "             user_id       duration\n",
      "count  137735.000000  137735.000000\n",
      "mean     1247.658046       6.745927\n",
      "std       139.416268       5.839241\n",
      "min      1000.000000       0.000000\n",
      "25%      1128.000000       1.290000\n",
      "50%      1247.000000       5.980000\n",
      "75%      1365.000000      10.690000\n",
      "max      1499.000000      37.600000\n"
     ]
    }
   ],
   "source": [
    "# Imprime la información general/resumida sobre el DataFrame de las llamadas\n",
    "calls = pd.read_csv('/datasets/megaline_calls.csv')\n",
    "calls.info()\n",
    "summary_calls = calls.describe()\n",
    "print (summary_calls)\n",
    "\n"
   ]
  },
  {
   "cell_type": "code",
   "execution_count": 11,
   "metadata": {
    "id": "kuh1vlNB0q09"
   },
   "outputs": [
    {
     "name": "stdout",
     "output_type": "stream",
     "text": [
      "         id  user_id   call_date  duration\n",
      "0   1000_93     1000  2018-12-27      8.52\n",
      "1  1000_145     1000  2018-12-27     13.66\n",
      "2  1000_247     1000  2018-12-27     14.48\n",
      "3  1000_309     1000  2018-12-28      5.76\n",
      "4  1000_380     1000  2018-12-30      4.22\n",
      "5  1000_388     1000  2018-12-31      2.20\n",
      "6  1000_510     1000  2018-12-27      5.75\n",
      "7  1000_521     1000  2018-12-28     14.18\n",
      "8  1000_530     1000  2018-12-28      5.77\n",
      "9  1000_544     1000  2018-12-26      4.40\n"
     ]
    }
   ],
   "source": [
    "# Imprime una muestra de datos para las llamadas\n",
    "print(calls.head(10))\n"
   ]
  },
  {
   "cell_type": "markdown",
   "metadata": {
    "id": "DOAxYJSx0q09"
   },
   "source": [
    "[Describe lo que ves y observas en la información general y en la muestra de datos impresa para el precio de datos anterior. ¿Hay algún problema (tipos de datos no adecuados, datos ausentes, etc.) que pudieran necesitar investigación y cambios adicionales? ¿Cómo se puede arreglar?]\n",
    "Se pueden observar dos problemas, el primero es que la columna call_date esta asignada como tipo objet cuando deberia ser timpo Datetime, lo segundo es que el tiempo minimo en las llamadas es igual a 0, en el caso de estas llamadas se puede inferir que fueron llamadas sin respuesta, al analizar el dataset podemos ver que es un numero considerable de llamadas sin respuesta por lo que seria importante no perder esta informacion, y mas bien crear una columna adicional que nos identifique si la llamada fue contestada o no."
   ]
  },
  {
   "cell_type": "markdown",
   "metadata": {
    "id": "S7hzxmbX0q0-"
   },
   "source": [
    "### Corregir los datos"
   ]
  },
  {
   "cell_type": "markdown",
   "metadata": {
    "id": "YxWyAjD20q0-"
   },
   "source": [
    "[Corrige los problemas obvios con los datos basándote en las observaciones iniciales.]"
   ]
  },
  {
   "cell_type": "code",
   "execution_count": 12,
   "metadata": {
    "id": "S2r8xA4f0q0-"
   },
   "outputs": [],
   "source": [
    "calls['call_date'] = pd.to_datetime(calls['call_date'])"
   ]
  },
  {
   "cell_type": "markdown",
   "metadata": {
    "id": "KrMgTrlG0q0_"
   },
   "source": [
    "### Enriquecer los datos"
   ]
  },
  {
   "cell_type": "markdown",
   "metadata": {
    "id": "a9MbmEvE0q0_"
   },
   "source": [
    "[Agrega factores adicionales a los datos si crees que pudieran ser útiles.]"
   ]
  },
  {
   "cell_type": "code",
   "execution_count": 13,
   "metadata": {
    "id": "iZ1avpA_0q0_"
   },
   "outputs": [
    {
     "name": "stdout",
     "output_type": "stream",
     "text": [
      "Número de llamadas con duración 0: 26834\n",
      "<class 'pandas.core.frame.DataFrame'>\n",
      "RangeIndex: 137735 entries, 0 to 137734\n",
      "Data columns (total 5 columns):\n",
      " #   Column        Non-Null Count   Dtype         \n",
      "---  ------        --------------   -----         \n",
      " 0   id            137735 non-null  object        \n",
      " 1   user_id       137735 non-null  int64         \n",
      " 2   call_date     137735 non-null  datetime64[ns]\n",
      " 3   duration      137735 non-null  float64       \n",
      " 4   is_effective  137735 non-null  bool          \n",
      "dtypes: bool(1), datetime64[ns](1), float64(1), int64(1), object(1)\n",
      "memory usage: 4.3+ MB\n",
      "None\n",
      "          id  user_id  call_date  duration  is_effective\n",
      "0    1000_93     1000 2018-12-27      8.52          True\n",
      "1   1000_145     1000 2018-12-27     13.66          True\n",
      "2   1000_247     1000 2018-12-27     14.48          True\n",
      "3   1000_309     1000 2018-12-28      5.76          True\n",
      "4   1000_380     1000 2018-12-30      4.22          True\n",
      "5   1000_388     1000 2018-12-31      2.20          True\n",
      "6   1000_510     1000 2018-12-27      5.75          True\n",
      "7   1000_521     1000 2018-12-28     14.18          True\n",
      "8   1000_530     1000 2018-12-28      5.77          True\n",
      "9   1000_544     1000 2018-12-26      4.40          True\n",
      "10  1000_693     1000 2018-12-31      4.31          True\n",
      "11  1000_705     1000 2018-12-31     12.78          True\n",
      "12  1000_735     1000 2018-12-29      1.70          True\n",
      "13  1000_778     1000 2018-12-28      3.29          True\n",
      "14  1000_826     1000 2018-12-26      9.96          True\n",
      "15  1000_842     1000 2018-12-27      5.85          True\n",
      "16    1001_0     1001 2018-09-06     10.06          True\n",
      "17    1001_1     1001 2018-10-12      1.00          True\n",
      "18    1001_2     1001 2018-10-17     15.83          True\n",
      "19    1001_4     1001 2018-12-05      0.00         False\n"
     ]
    }
   ],
   "source": [
    "calls_with_zero_duration = calls[calls['duration'] == 0]\n",
    "print(f\"Número de llamadas con duración 0: {len(calls_with_zero_duration)}\")\n",
    "calls['is_effective'] = calls['duration'] > 0\n",
    "print(calls.info())\n",
    "print(calls.head(20))"
   ]
  },
  {
   "cell_type": "markdown",
   "metadata": {
    "id": "mOUZSi180q0_"
   },
   "source": [
    "## Mensajes"
   ]
  },
  {
   "cell_type": "code",
   "execution_count": 14,
   "metadata": {
    "id": "R-bYJpdV0q1A"
   },
   "outputs": [
    {
     "name": "stdout",
     "output_type": "stream",
     "text": [
      "<class 'pandas.core.frame.DataFrame'>\n",
      "RangeIndex: 76051 entries, 0 to 76050\n",
      "Data columns (total 3 columns):\n",
      " #   Column        Non-Null Count  Dtype \n",
      "---  ------        --------------  ----- \n",
      " 0   id            76051 non-null  object\n",
      " 1   user_id       76051 non-null  int64 \n",
      " 2   message_date  76051 non-null  object\n",
      "dtypes: int64(1), object(2)\n",
      "memory usage: 1.7+ MB\n",
      "            user_id\n",
      "count  76051.000000\n",
      "mean    1245.972768\n",
      "std      139.843635\n",
      "min     1000.000000\n",
      "25%     1123.000000\n",
      "50%     1251.000000\n",
      "75%     1362.000000\n",
      "max     1497.000000\n"
     ]
    }
   ],
   "source": [
    "# Imprime la información general/resumida sobre el DataFrame de los mensajes\n",
    "messages = pd.read_csv('/datasets/megaline_messages.csv')\n",
    "messages.info()\n",
    "summary_messages = messages.describe()\n",
    "print (summary_messages)\n"
   ]
  },
  {
   "cell_type": "code",
   "execution_count": 15,
   "metadata": {
    "id": "mCEl2iGE0q1A"
   },
   "outputs": [
    {
     "name": "stdout",
     "output_type": "stream",
     "text": [
      "         id  user_id message_date\n",
      "0  1000_125     1000   2018-12-27\n",
      "1  1000_160     1000   2018-12-31\n",
      "2  1000_223     1000   2018-12-31\n",
      "3  1000_251     1000   2018-12-27\n",
      "4  1000_255     1000   2018-12-26\n",
      "5  1000_346     1000   2018-12-29\n",
      "6  1000_386     1000   2018-12-30\n",
      "7  1000_413     1000   2018-12-31\n",
      "8  1000_502     1000   2018-12-27\n",
      "9  1000_525     1000   2018-12-28\n"
     ]
    }
   ],
   "source": [
    "# Imprime una muestra de datos para los mensajes\n",
    "print(messages.head(10))\n"
   ]
  },
  {
   "cell_type": "markdown",
   "metadata": {
    "id": "04xDj7KH0q1A"
   },
   "source": [
    "[Describe lo que ves y observas en la información general y en la muestra de datos impresa para el precio de datos anterior. ¿Hay algún problema (tipos de datos no adecuados, datos ausentes, etc.) que pudieran necesitar investigación y cambios adicionales? ¿Cómo se puede arreglar?]\n",
    "No se encuentran datos nulos, el unico problema o detalle es que la columna message_date es una columna de tipo object y al ser una fecha hay que cambiarla al tipo datetime."
   ]
  },
  {
   "cell_type": "markdown",
   "metadata": {
    "id": "Sprfak900q1B"
   },
   "source": [
    "### Corregir los datos"
   ]
  },
  {
   "cell_type": "markdown",
   "metadata": {
    "id": "eGw7d9j10q1B"
   },
   "source": [
    "[Corrige los problemas obvios con los datos basándote en las observaciones iniciales.]"
   ]
  },
  {
   "cell_type": "code",
   "execution_count": 16,
   "metadata": {
    "id": "vsllvkoa0q1B"
   },
   "outputs": [],
   "source": [
    "messages[\"message_date\"] = pd.to_datetime(messages[\"message_date\"])"
   ]
  },
  {
   "cell_type": "markdown",
   "metadata": {
    "id": "HvLid7iD0q1B"
   },
   "source": [
    "### Enriquecer los datos"
   ]
  },
  {
   "cell_type": "markdown",
   "metadata": {
    "id": "8nhPFKIe0q1C"
   },
   "source": [
    "[Agrega factores adicionales a los datos si crees que pudieran ser útiles.]"
   ]
  },
  {
   "cell_type": "code",
   "execution_count": 17,
   "metadata": {
    "id": "zYEXZac10q1C"
   },
   "outputs": [
    {
     "name": "stdout",
     "output_type": "stream",
     "text": [
      "<class 'pandas.core.frame.DataFrame'>\n",
      "RangeIndex: 76051 entries, 0 to 76050\n",
      "Data columns (total 3 columns):\n",
      " #   Column        Non-Null Count  Dtype         \n",
      "---  ------        --------------  -----         \n",
      " 0   id            76051 non-null  object        \n",
      " 1   user_id       76051 non-null  int64         \n",
      " 2   message_date  76051 non-null  datetime64[ns]\n",
      "dtypes: datetime64[ns](1), int64(1), object(1)\n",
      "memory usage: 1.7+ MB\n",
      "None\n",
      "         id  user_id message_date\n",
      "0  1000_125     1000   2018-12-27\n",
      "1  1000_160     1000   2018-12-31\n",
      "2  1000_223     1000   2018-12-31\n",
      "3  1000_251     1000   2018-12-27\n",
      "4  1000_255     1000   2018-12-26\n"
     ]
    }
   ],
   "source": [
    "print(messages.info())\n",
    "print(messages.head())"
   ]
  },
  {
   "cell_type": "markdown",
   "metadata": {
    "id": "bStkaxn40q1C"
   },
   "source": [
    "## Internet"
   ]
  },
  {
   "cell_type": "code",
   "execution_count": 18,
   "metadata": {
    "id": "e-Uz5qyn0q1C"
   },
   "outputs": [
    {
     "name": "stdout",
     "output_type": "stream",
     "text": [
      "<class 'pandas.core.frame.DataFrame'>\n",
      "RangeIndex: 104825 entries, 0 to 104824\n",
      "Data columns (total 4 columns):\n",
      " #   Column        Non-Null Count   Dtype  \n",
      "---  ------        --------------   -----  \n",
      " 0   id            104825 non-null  object \n",
      " 1   user_id       104825 non-null  int64  \n",
      " 2   session_date  104825 non-null  object \n",
      " 3   mb_used       104825 non-null  float64\n",
      "dtypes: float64(1), int64(1), object(2)\n",
      "memory usage: 3.2+ MB\n",
      "             user_id        mb_used\n",
      "count  104825.000000  104825.000000\n",
      "mean     1242.496361     366.713701\n",
      "std       142.053913     277.170542\n",
      "min      1000.000000       0.000000\n",
      "25%      1122.000000     136.080000\n",
      "50%      1236.000000     343.980000\n",
      "75%      1367.000000     554.610000\n",
      "max      1499.000000    1693.470000\n"
     ]
    }
   ],
   "source": [
    "# Imprime la información general/resumida sobre el DataFrame de internet\n",
    "internet = pd.read_csv('/datasets/megaline_internet.csv')\n",
    "internet.info()\n",
    "summary_internet = internet.describe()\n",
    "print (summary_internet)"
   ]
  },
  {
   "cell_type": "code",
   "execution_count": 19,
   "metadata": {
    "id": "9r3x_XLw0q1C"
   },
   "outputs": [
    {
     "name": "stdout",
     "output_type": "stream",
     "text": [
      "         id  user_id session_date  mb_used\n",
      "0   1000_13     1000   2018-12-29    89.86\n",
      "1  1000_204     1000   2018-12-31     0.00\n",
      "2  1000_379     1000   2018-12-28   660.40\n",
      "3  1000_413     1000   2018-12-26   270.99\n",
      "4  1000_442     1000   2018-12-27   880.22\n",
      "5    1001_0     1001   2018-08-24   284.68\n",
      "6    1001_3     1001   2018-12-09   656.04\n",
      "7    1001_4     1001   2018-11-04    16.97\n",
      "8   1001_10     1001   2018-11-27   135.18\n",
      "9   1001_15     1001   2018-12-13   761.92\n"
     ]
    }
   ],
   "source": [
    "# Imprime una muestra de datos para el tráfico de internet\n",
    "print(internet.head(10))\n"
   ]
  },
  {
   "cell_type": "markdown",
   "metadata": {
    "id": "EzOG5ik30q1D"
   },
   "source": [
    "[Describe lo que ves y observas en la información general y en la muestra de datos impresa para el precio de datos anterior. ¿Hay algún problema (tipos de datos no adecuados, datos ausentes, etc.) que pudieran necesitar investigación y cambios adicionales? ¿Cómo se puede arreglar?]\n",
    "Se pueden observar dos problemas con el Dataset los cuales son los mismos dos problemas son el Dataset calls, los cuales son la columna session_date es del tipo objet y hay que cambiarla al tipo datetime al ser una fecha, y la columna mb_used a pesar de no tener valores ausentes si tiene valores en 0 por lo que hay que crear otra columna de gente que no consume datos, ya que de igual manera el numero de personas con 0 es un numero significativo de usuarios."
   ]
  },
  {
   "cell_type": "markdown",
   "metadata": {
    "id": "yA0tkPFg0q1D"
   },
   "source": [
    "### Corregir los datos"
   ]
  },
  {
   "cell_type": "markdown",
   "metadata": {
    "id": "zlZMuIEK0q1D"
   },
   "source": [
    "[Corrige los problemas obvios con los datos basándote en las observaciones iniciales.]"
   ]
  },
  {
   "cell_type": "code",
   "execution_count": 20,
   "metadata": {
    "id": "zVeanzdd0q1E"
   },
   "outputs": [],
   "source": [
    "internet['session_date'] = pd.to_datetime(internet['session_date'])"
   ]
  },
  {
   "cell_type": "markdown",
   "metadata": {
    "id": "e8_mLF4a0q1E"
   },
   "source": [
    "### Enriquecer los datos"
   ]
  },
  {
   "cell_type": "markdown",
   "metadata": {
    "id": "xhNdn2tE0q1E"
   },
   "source": [
    "[Agrega factores adicionales a los datos si crees que pudieran ser útiles.]"
   ]
  },
  {
   "cell_type": "code",
   "execution_count": 21,
   "metadata": {
    "id": "ESiYPIEK0q1E"
   },
   "outputs": [
    {
     "name": "stdout",
     "output_type": "stream",
     "text": [
      "Número de sesiones con mb_used igual a 0: 13747\n",
      "<class 'pandas.core.frame.DataFrame'>\n",
      "RangeIndex: 104825 entries, 0 to 104824\n",
      "Data columns (total 5 columns):\n",
      " #   Column        Non-Null Count   Dtype         \n",
      "---  ------        --------------   -----         \n",
      " 0   id            104825 non-null  object        \n",
      " 1   user_id       104825 non-null  int64         \n",
      " 2   session_date  104825 non-null  datetime64[ns]\n",
      " 3   mb_used       104825 non-null  float64       \n",
      " 4   spend_megas   104825 non-null  bool          \n",
      "dtypes: bool(1), datetime64[ns](1), float64(1), int64(1), object(1)\n",
      "memory usage: 3.3+ MB\n",
      "None\n",
      "         id  user_id session_date  mb_used  spend_megas\n",
      "0   1000_13     1000   2018-12-29    89.86         True\n",
      "1  1000_204     1000   2018-12-31     0.00        False\n",
      "2  1000_379     1000   2018-12-28   660.40         True\n",
      "3  1000_413     1000   2018-12-26   270.99         True\n",
      "4  1000_442     1000   2018-12-27   880.22         True\n",
      "5    1001_0     1001   2018-08-24   284.68         True\n",
      "6    1001_3     1001   2018-12-09   656.04         True\n",
      "7    1001_4     1001   2018-11-04    16.97         True\n",
      "8   1001_10     1001   2018-11-27   135.18         True\n",
      "9   1001_15     1001   2018-12-13   761.92         True\n"
     ]
    }
   ],
   "source": [
    "internet_with_zero_usage = internet[internet['mb_used'] == 0]\n",
    "print(f\"Número de sesiones con mb_used igual a 0: {len(internet_with_zero_usage)}\")\n",
    "internet['spend_megas'] = internet['mb_used'] > 0\n",
    "print(internet.info())\n",
    "print(internet.head(10))"
   ]
  },
  {
   "cell_type": "markdown",
   "metadata": {
    "id": "3UA2cqIW0q1E"
   },
   "source": [
    "## Estudiar las condiciones de las tarifas"
   ]
  },
  {
   "cell_type": "markdown",
   "metadata": {
    "id": "T86Sqltq0q1F"
   },
   "source": [
    "[Es sumamente importante entender cómo funcionan las tarifas, cómo se les cobra a los usuarios en función de su plan de suscripción. Así que te sugerimos imprimir la información de la tarifa para ver una vez más sus condiciones.]"
   ]
  },
  {
   "cell_type": "code",
   "execution_count": 22,
   "metadata": {
    "id": "i409op8p0q1F"
   },
   "outputs": [
    {
     "name": "stdout",
     "output_type": "stream",
     "text": [
      "   messages_included  mb_per_month_included  minutes_included  \\\n",
      "0                 50                  15360               500   \n",
      "1               1000                  30720              3000   \n",
      "\n",
      "   usd_monthly_pay  usd_per_gb  usd_per_message  usd_per_minute plan_name  \n",
      "0               20          10             0.03            0.03      surf  \n",
      "1               70           7             0.01            0.01  ultimate  \n"
     ]
    }
   ],
   "source": [
    "# Imprime las condiciones de la tarifa y asegúrate de que te quedan claras\n",
    "print(plans)\n"
   ]
  },
  {
   "cell_type": "markdown",
   "metadata": {
    "id": "hMR1tP5d0q1F"
   },
   "source": [
    "## Agregar datos por usuario\n",
    "\n",
    "[Ahora que los datos están limpios, agrega los datos por usuario y por periodo para que solo haya un registro por usuario y por periodo. Esto facilitará mucho el análisis posterior.]"
   ]
  },
  {
   "cell_type": "code",
   "execution_count": 23,
   "metadata": {
    "id": "A332cedB0q1G"
   },
   "outputs": [
    {
     "name": "stdout",
     "output_type": "stream",
     "text": [
      "Cantidad total de registros en calls X month: 2258\n"
     ]
    }
   ],
   "source": [
    "# Calcula el número de llamadas hechas por cada usuario al mes. Guarda el resultado.\n",
    "calls['month_year'] = calls['call_date'].dt.to_period('M')\n",
    "calls_per_month = calls.groupby(['user_id', 'month_year']).size().reset_index(name='call_count')\n",
    "print(\"Cantidad total de registros en calls X month:\", len(calls_per_month))\n",
    "calls_per_month.to_csv('calls_per_month.csv', index=False)\n"
   ]
  },
  {
   "cell_type": "code",
   "execution_count": 24,
   "metadata": {
    "id": "aw2cmuql0q1G"
   },
   "outputs": [
    {
     "name": "stdout",
     "output_type": "stream",
     "text": [
      "Cantidad total de registros en minutes_per_month: 2258\n"
     ]
    }
   ],
   "source": [
    "# Calcula la cantidad de minutos usados por cada usuario al mes. Guarda el resultado.\n",
    "calls['month_year'] = calls['call_date'].dt.to_period('M')\n",
    "minutes_per_month = calls.groupby(['user_id', 'month_year'])['duration'].sum().reset_index()\n",
    "minutes_per_month = minutes_per_month.rename(columns={'duration': 'total_minutes'})\n",
    "print(\"Cantidad total de registros en minutes_per_month:\", len(minutes_per_month))\n",
    "minutes_per_month.to_csv('minutes_per_month.csv', index=False)\n"
   ]
  },
  {
   "cell_type": "code",
   "execution_count": 25,
   "metadata": {
    "id": "CcQvNHn60q1G"
   },
   "outputs": [
    {
     "name": "stdout",
     "output_type": "stream",
     "text": [
      "Cantidad total de registros en messages_per_month: 1806\n"
     ]
    }
   ],
   "source": [
    "# Calcula el número de mensajes enviados por cada usuario al mes. Guarda el resultado.\n",
    "messages['month_year'] = messages['message_date'].dt.to_period('M')\n",
    "messages_per_month = messages.groupby(['user_id', 'month_year']).size().reset_index(name='message_count')\n",
    "messages_per_month = messages.groupby(['user_id', 'month_year']).size().reset_index(name='message_count')\n",
    "print(\"Cantidad total de registros en messages_per_month:\", len(messages_per_month))\n",
    "messages_per_month.to_csv('messages_per_month.csv', index=False)\n"
   ]
  },
  {
   "cell_type": "code",
   "execution_count": 26,
   "metadata": {
    "id": "H1AqN2eG0q1H"
   },
   "outputs": [
    {
     "name": "stdout",
     "output_type": "stream",
     "text": [
      "Cantidad total de registros en data_usage_per_month: 2277\n"
     ]
    }
   ],
   "source": [
    "# Calcula el volumen del tráfico de Internet usado por cada usuario al mes. Guarda el resultado.\n",
    "internet['month_year'] = internet['session_date'].dt.to_period('M')\n",
    "data_usage_per_month = internet.groupby(['user_id', 'month_year'])['mb_used'].sum().reset_index()\n",
    "data_usage_per_month = data_usage_per_month.rename(columns={'mb_used': 'total_mb_used'})\n",
    "print(\"Cantidad total de registros en data_usage_per_month:\", len(data_usage_per_month))\n",
    "data_usage_per_month.to_csv('data_usage_per_month.csv', index=False)\n"
   ]
  },
  {
   "cell_type": "markdown",
   "metadata": {
    "id": "VDfYXnj80q1H"
   },
   "source": [
    "[Junta los datos agregados en un DataFrame para que haya un registro que represente lo que consumió un usuario único en un mes determinado.]"
   ]
  },
  {
   "cell_type": "code",
   "execution_count": 27,
   "metadata": {
    "id": "FW99ykyf0q1H"
   },
   "outputs": [
    {
     "name": "stdout",
     "output_type": "stream",
     "text": [
      "Cantidad total de registros en merged_data: 2293\n"
     ]
    }
   ],
   "source": [
    "# Fusiona los datos de llamadas, minutos, mensajes e Internet con base en user_id y month\n",
    "\n",
    "calls_per_month['month_year'] = calls_per_month['month_year'].astype(str)\n",
    "minutes_per_month['month_year'] = minutes_per_month['month_year'].astype(str)\n",
    "messages_per_month['month_year'] = messages_per_month['month_year'].astype(str)\n",
    "data_usage_per_month['month_year'] = data_usage_per_month['month_year'].astype(str)\n",
    "\n",
    "merged_data = pd.merge(calls_per_month, minutes_per_month, on=['user_id', 'month_year'], how='outer')\n",
    "merged_data = pd.merge(merged_data, messages_per_month, on=['user_id', 'month_year'], how='outer')\n",
    "merged_data = pd.merge(merged_data, data_usage_per_month, on=['user_id', 'month_year'], how='outer')\n",
    "\n",
    "\n",
    "merged_data.fillna(0, inplace=True)\n",
    "\n",
    "\n",
    "print(\"Cantidad total de registros en merged_data:\", len(merged_data))\n",
    "merged_data.to_csv('merged_data.csv', index=False)\n",
    "\n"
   ]
  },
  {
   "cell_type": "code",
   "execution_count": 28,
   "metadata": {
    "id": "0dNOXHag0q1H"
   },
   "outputs": [
    {
     "name": "stdout",
     "output_type": "stream",
     "text": [
      "Columnas en merged_data antes de añadir 'plans': Index(['user_id', 'month_year', 'call_count', 'total_minutes', 'message_count',\n",
      "       'total_mb_used', 'plan'],\n",
      "      dtype='object')\n",
      "Columnas en merged_data después de añadir 'plans': Index(['user_id', 'month_year', 'call_count', 'total_minutes', 'message_count',\n",
      "       'total_mb_used', 'plan', 'messages_included', 'mb_per_month_included',\n",
      "       'minutes_included', 'usd_monthly_pay', 'usd_per_gb', 'usd_per_message',\n",
      "       'usd_per_minute', 'plan_name'],\n",
      "      dtype='object')\n"
     ]
    }
   ],
   "source": [
    "# Añade la información de la tarifa\n",
    "merged_data = pd.merge(merged_data, users[['user_id', 'plan']], on='user_id', how='left')\n",
    "print(\"Columnas en merged_data antes de añadir 'plans':\", merged_data.columns)\n",
    "merged_data = pd.merge(merged_data, plans, left_on='plan', right_on='plan_name', how='left')\n",
    "print(\"Columnas en merged_data después de añadir 'plans':\", merged_data.columns)\n",
    "\n"
   ]
  },
  {
   "cell_type": "markdown",
   "metadata": {
    "id": "1IwGo4wg0q1I"
   },
   "source": [
    "[Calcula los ingresos mensuales por usuario (resta el límite del paquete gratuito del número total de llamadas, mensajes de texto y datos; multiplica el resultado por el valor del plan de llamadas; añade la tarifa mensual en función del plan de llamadas). Nota: Dadas las condiciones del plan, ¡esto podría no ser tan trivial como un par de líneas! Así que no pasa nada si dedicas algo de tiempo a ello.]"
   ]
  },
  {
   "cell_type": "code",
   "execution_count": 29,
   "metadata": {
    "id": "5FGCf_c60q1I"
   },
   "outputs": [
    {
     "name": "stdout",
     "output_type": "stream",
     "text": [
      "Cantidad total de registros en merged_data: 2293\n",
      "Cantidad total de  ingresos mensuales para cada usuario es: 2293\n"
     ]
    }
   ],
   "source": [
    "\n",
    "calls_per_month['month_year'] = calls_per_month['month_year'].astype(str)\n",
    "minutes_per_month['month_year'] = minutes_per_month['month_year'].astype(str)\n",
    "messages_per_month['month_year'] = messages_per_month['month_year'].astype(str)\n",
    "data_usage_per_month['month_year'] = data_usage_per_month['month_year'].astype(str)\n",
    "\n",
    "\n",
    "merged_data = pd.merge(calls_per_month, minutes_per_month, on=['user_id', 'month_year'], how='outer')\n",
    "merged_data = pd.merge(merged_data, messages_per_month, on=['user_id', 'month_year'], how='outer')\n",
    "merged_data = pd.merge(merged_data, data_usage_per_month, on=['user_id', 'month_year'], how='outer')\n",
    "\n",
    "merged_data.fillna(0, inplace=True)\n",
    "\n",
    "merged_data = pd.merge(merged_data, users[['user_id', 'plan']], on='user_id', how='left')\n",
    "merged_data = pd.merge(merged_data, plans, left_on='plan', right_on='plan_name', how='left')\n",
    "merged_data['usd_per_mb'] = merged_data['usd_per_gb'] / 1024\n",
    "\n",
    "\n",
    "def calculate_monthly_revenue(row):\n",
    "    extra_messages = max(row['message_count'] - row['messages_included'], 0)\n",
    "    extra_mb = max(row['total_mb_used'] - row['mb_per_month_included'], 0)\n",
    "    extra_minutes = max(row['total_minutes'] - row['minutes_included'], 0)\n",
    "    \n",
    "    extra_costs = (extra_messages * row['usd_per_message'] +\n",
    "                   extra_mb * row['usd_per_mb'] +\n",
    "                   extra_minutes * row['usd_per_minute'])\n",
    "    \n",
    "    return row['usd_monthly_pay'] + extra_costs\n",
    "\n",
    "# Calculo de los ingresos mensuales \n",
    "merged_data['monthly_revenue'] = merged_data.apply(calculate_monthly_revenue, axis=1)\n",
    "merged_data['total_minutes'] = merged_data['total_minutes'].round()\n",
    "merged_data['total_mb_used'] = merged_data['total_mb_used'].round()\n",
    "\n",
    "print(\"Cantidad total de registros en merged_data:\", len(merged_data))\n",
    "merged_data.to_csv('merged_data_with_revenue.csv', index=False)\n",
    "\n",
    "monthly_revenue_summary = merged_data.groupby(['user_id', 'month_year'])['monthly_revenue'].sum().reset_index()\n",
    "print(\"Cantidad total de  ingresos mensuales para cada usuario es:\", len(monthly_revenue_summary))\n",
    "monthly_revenue_summary.to_csv('monthly_revenue_summary.csv', index=False)\n",
    "\n",
    "\n"
   ]
  },
  {
   "cell_type": "markdown",
   "metadata": {
    "id": "-jtyHzJb0q1I"
   },
   "source": [
    "## Estudia el comportamiento de usuario"
   ]
  },
  {
   "cell_type": "markdown",
   "metadata": {
    "id": "AxU3Y0N70q1J"
   },
   "source": [
    "[Calcula algunas estadísticas descriptivas para los datos agregados y fusionados que nos sean útiles y que muestren un panorama general captado por los datos. Dibuja gráficos útiles para facilitar la comprensión. Dado que la tarea principal es comparar las tarifas y decidir cuál es más rentable, las estadísticas y gráficas deben calcularse por tarifa.]\n",
    "\n",
    "[En los comentarios hallarás pistas relevantes para las llamadas, pero no las hay para los mensajes e Internet. Sin embargo, el principio del estudio estadístico que se aplica para ellos es el mismo que para las llamadas.]"
   ]
  },
  {
   "cell_type": "markdown",
   "metadata": {
    "id": "vtW4CJEe0q1J"
   },
   "source": [
    "### Llamadas"
   ]
  },
  {
   "cell_type": "code",
   "execution_count": 30,
   "metadata": {
    "id": "Jf5v5--k0q1J"
   },
   "outputs": [
    {
     "data": {
      "image/png": "[encoded data removed]",
      "text/plain": [
       "<Figure size 1400x800 with 1 Axes>"
      ]
     },
     "metadata": {},
     "output_type": "display_data"
    }
   ],
   "source": [
    "# Compara la duración promedio de llamadas por cada plan y por cada mes. Traza un gráfico de barras para visualizarla.\n",
    "\n",
    "import matplotlib.pyplot as plt\n",
    "\n",
    "\n",
    "# Crear una nueva columna 'month_year' que indique el mes y año\n",
    "calls['month_year'] = calls['call_date'].dt.to_period('M')\n",
    "\n",
    "# Añadir la información de la tarifa desde el DataFrame 'users'\n",
    "calls = pd.merge(calls, users[['user_id', 'plan']], on='user_id', how='left')\n",
    "\n",
    "# Agrupar los datos por 'plan' y 'month_year' para calcular la duración promedio de llamadas\n",
    "avg_call_duration = calls.groupby(['plan', 'month_year'])['duration'].mean().reset_index()\n",
    "\n",
    "# Convertir 'month_year' a cadena para facilitar el trazado\n",
    "avg_call_duration['month_year'] = avg_call_duration['month_year'].astype(str)\n",
    "\n",
    "# Pivotar los datos para trazarlos\n",
    "pivot_table = avg_call_duration.pivot(index='month_year', columns='plan', values='duration')\n",
    "\n",
    "# Trazar el gráfico de barras\n",
    "pivot_table.plot(kind='bar', figsize=(14, 8), colormap='viridis')\n",
    "plt.title('Duración Promedio de Llamadas por Plan y Mes')\n",
    "plt.xlabel('Mes-Año')\n",
    "plt.ylabel('Duración Promedio de Llamadas (min)')\n",
    "plt.xticks(rotation=45)\n",
    "plt.legend(title='Plan')\n",
    "plt.grid(axis='y', linestyle='--', alpha=0.7)\n",
    "plt.tight_layout()\n",
    "\n",
    "# Mostrar el gráfico\n",
    "plt.show()\n"
   ]
  },
  {
   "cell_type": "code",
   "execution_count": 32,
   "metadata": {
    "id": "QoLqW1S_0q1J"
   },
   "outputs": [
    {
     "data": {
      "image/png": "[encoded data removed]",
      "text/plain": [
       "<Figure size 1400x800 with 1 Axes>"
      ]
     },
     "metadata": {},
     "output_type": "display_data"
    }
   ],
   "source": [
    "# Compara el número de minutos mensuales que necesitan los usuarios de cada plan. Traza un histograma.\n",
    "calls['call_date'] = pd.to_datetime(calls['call_date'])\n",
    "calls['month_year'] = calls['call_date'].dt.to_period('M')\n",
    "calls = pd.merge(calls, users[['user_id', 'plan']], on='user_id', how='left')\n",
    "monthly_minutes = calls.groupby(['user_id', 'plan', 'month_year'])['duration'].sum().reset_index()\n",
    "plt.figure(figsize=(14, 8))\n",
    "for plan in monthly_minutes['plan'].unique():\n",
    "    subset = monthly_minutes[monthly_minutes['plan'] == plan]\n",
    "    plt.hist(subset['duration'], bins=20, alpha=0.5, label=plan)\n",
    "\n",
    "plt.title('Distribución del Número de Minutos Mensuales por Plan')\n",
    "plt.xlabel('Minutos Mensuales')\n",
    "plt.ylabel('Frecuencia')\n",
    "plt.legend(title='Plan')\n",
    "plt.grid(axis='y', linestyle='--', alpha=0.7)\n",
    "plt.tight_layout()\n",
    "\n",
    "# Mostrar el gráfico\n",
    "plt.show()\n"
   ]
  },
  {
   "cell_type": "markdown",
   "metadata": {
    "id": "bLS9T8OH0q1K"
   },
   "source": [
    "[Calcula la media y la variable de la duración de las llamadas para averiguar si los usuarios de los distintos planes se comportan de forma diferente al realizar sus llamadas.]"
   ]
  },
  {
   "cell_type": "code",
   "execution_count": 34,
   "metadata": {
    "id": "oSndbAnt0q1K"
   },
   "outputs": [
    {
     "name": "stdout",
     "output_type": "stream",
     "text": [
      "Media de la duración mensual de llamadas por plan:\n",
      "plan\n",
      "surf        412.097890\n",
      "ultimate    410.180954\n",
      "Name: duration, dtype: float64\n",
      "\n",
      "Varianza de la duración mensual de llamadas por plan:\n",
      "plan\n",
      "surf        47001.254231\n",
      "ultimate    50510.631705\n",
      "Name: duration, dtype: float64\n"
     ]
    }
   ],
   "source": [
    "# Calcula la media y la varianza de la duración mensual de llamadas.\n",
    "\n",
    "calls['call_date'] = pd.to_datetime(calls['call_date'])\n",
    "calls['month_year'] = calls['call_date'].dt.to_period('M')\n",
    "calls = pd.merge(calls, users[['user_id', 'plan']], on='user_id', how='left')\n",
    "monthly_call_duration = calls.groupby(['user_id', 'plan', 'month_year'])['duration'].sum().reset_index()\n",
    "mean_duration_by_plan = monthly_call_duration.groupby('plan')['duration'].mean()\n",
    "variance_duration_by_plan = monthly_call_duration.groupby('plan')['duration'].var()\n",
    "print(\"Media de la duración mensual de llamadas por plan:\")\n",
    "print(mean_duration_by_plan)\n",
    "print(\"\\nVarianza de la duración mensual de llamadas por plan:\")\n",
    "print(variance_duration_by_plan)"
   ]
  },
  {
   "cell_type": "code",
   "execution_count": 35,
   "metadata": {
    "id": "nZzoRUKc0q1K"
   },
   "outputs": [
    {
     "data": {
      "text/plain": [
       "<Figure size 1400x800 with 0 Axes>"
      ]
     },
     "metadata": {},
     "output_type": "display_data"
    },
    {
     "data": {
      "image/png": "[encoded data removed]",
      "text/plain": [
       "<Figure size 640x480 with 1 Axes>"
      ]
     },
     "metadata": {},
     "output_type": "display_data"
    }
   ],
   "source": [
    "# Traza un diagrama de caja para visualizar la distribución de la duración mensual de llamadas\n",
    "plt.figure(figsize=(14, 8))\n",
    "monthly_call_duration.boxplot(column='duration', by='plan', grid=False)\n",
    "plt.title('Distribución de la Duración Mensual de Llamadas por Plan')\n",
    "plt.suptitle('')\n",
    "plt.xlabel('Plan')\n",
    "plt.ylabel('Duración Mensual de Llamadas (min)')\n",
    "plt.grid(True, linestyle='--', alpha=0.7)\n",
    "plt.tight_layout()\n",
    "plt.show()\n"
   ]
  },
  {
   "cell_type": "markdown",
   "metadata": {
    "id": "r627zBO50q1K"
   },
   "source": [
    "[Elabora las conclusiones sobre el comportamiento de los usuarios con respecto a las llamadas. ¿Su comportamiento varía en función del plan?]\n",
    "        Aunque en ambos casos se observa una pequeña dferencía entre ambos valores esta diferencia no es tan significativa, por ejemplo en cuanto al promedio de minutos gastafos al mes solo hay una diferencia en la media de 2 minutos entre ambos planes y en cuanto a la varianza ambos planes presentan una una alta varianza que aunque ligeramente mayor para el plan ultimate, por lo que podemos concluir observando el diagrama de caja que la actividad para ambos planes tiene un comportamiento un poco diferente pero muy similar entre ambos, el unico comportamiento que podemos notar que varia significativamente es la cantidad de minutos que necesita cada uno de los usuarios por plan ya que el histograma arroja que el plan surf tiene una mayor frecuencia de uso."
   ]
  },
  {
   "cell_type": "markdown",
   "metadata": {
    "id": "8idKy8Wh0q1L"
   },
   "source": [
    "### Mensajes"
   ]
  },
  {
   "cell_type": "code",
   "execution_count": 36,
   "metadata": {
    "id": "NXLxiTit0q1L"
   },
   "outputs": [],
   "source": [
    "# Comprara el número de mensajes que tienden a enviar cada mes los usuarios de cada plan\n",
    "messages['message_date'] = pd.to_datetime(messages['message_date'])\n",
    "messages['month_year'] = messages['message_date'].dt.to_period('M')\n",
    "messages = pd.merge(messages, users[['user_id', 'plan']], on='user_id', how='left')\n",
    "monthly_message_count = messages.groupby(['user_id', 'plan', 'month_year']).size().reset_index(name='message_count')\n",
    "mean_messages_by_plan = monthly_message_count.groupby('plan')['message_count'].mean()\n",
    "variance_messages_by_plan = monthly_message_count.groupby('plan')['message_count'].var()\n"
   ]
  },
  {
   "cell_type": "code",
   "execution_count": 37,
   "metadata": {
    "id": "GRI_R7xF0q1L"
   },
   "outputs": [
    {
     "name": "stdout",
     "output_type": "stream",
     "text": [
      "Media del número de mensajes mensuales por plan:\n",
      "plan\n",
      "surf        40.109656\n",
      "ultimate    46.296233\n",
      "Name: message_count, dtype: float64\n",
      "\n",
      "Varianza del número de mensajes mensuales por plan:\n",
      "plan\n",
      "surf        1091.344231\n",
      "ultimate    1085.183108\n",
      "Name: message_count, dtype: float64\n"
     ]
    }
   ],
   "source": [
    "print(\"Media del número de mensajes mensuales por plan:\")\n",
    "print(mean_messages_by_plan)\n",
    "print(\"\\nVarianza del número de mensajes mensuales por plan:\")\n",
    "print(variance_messages_by_plan)\n"
   ]
  },
  {
   "cell_type": "code",
   "execution_count": 38,
   "metadata": {
    "id": "dtFwCGAp0q1M"
   },
   "outputs": [
    {
     "data": {
      "text/plain": [
       "<Figure size 1400x800 with 0 Axes>"
      ]
     },
     "metadata": {},
     "output_type": "display_data"
    },
    {
     "data": {
      "image/png": "[encoded data removed]",
      "text/plain": [
       "<Figure size 640x480 with 1 Axes>"
      ]
     },
     "metadata": {},
     "output_type": "display_data"
    }
   ],
   "source": [
    "plt.figure(figsize=(14, 8))\n",
    "monthly_message_count.boxplot(column='message_count', by='plan', grid=False)\n",
    "plt.title('Distribución del Número de Mensajes Mensuales por Plan')\n",
    "plt.suptitle('')\n",
    "plt.xlabel('Plan')\n",
    "plt.ylabel('Número de Mensajes Mensuales')\n",
    "plt.grid(True, linestyle='--', alpha=0.7)\n",
    "plt.tight_layout()\n",
    "plt.show()"
   ]
  },
  {
   "cell_type": "markdown",
   "metadata": {
    "id": "390SSL480q1M"
   },
   "source": [
    "    [Elabora las conclusiones sobre el comportamiento de los usuarios con respecto a los mensajes. ¿Su comportamiento varía en función del plan?]\n",
    "Los usuarios del plan Ultimate envían, en promedio, más mensajes mensuales (46.30) que los usuarios del plan Surf (40.11) pero esta diferencia no es muy alta el mismo caso aplica para la varianza ya que la dispersion de los datos es igual para los dos datos.\n",
    "El diagrama de caja muestra que ambos planes tienen una distribución similar con varios  valores atípicos en el extremo superior, presentando el pan Surf los valores atipicos mas alejados."
   ]
  },
  {
   "cell_type": "markdown",
   "metadata": {
    "id": "42YSypXz0q1M"
   },
   "source": [
    "### Internet"
   ]
  },
  {
   "cell_type": "code",
   "execution_count": 39,
   "metadata": {
    "id": "lSuKPtjh0q1M"
   },
   "outputs": [],
   "source": [
    "# Compara la cantidad de tráfico de Internet consumido por usuarios por plan\n",
    "internet = pd.merge(internet, users[['user_id', 'plan']], on='user_id', how='left')\n",
    "monthly_internet_usage = internet.groupby(['user_id', 'plan', 'month_year'])['mb_used'].sum().reset_index()\n",
    "mean_internet_usage_by_plan = monthly_internet_usage.groupby('plan')['mb_used'].mean()\n",
    "variance_internet_usage_by_plan = monthly_internet_usage.groupby('plan')['mb_used'].var()"
   ]
  },
  {
   "cell_type": "code",
   "execution_count": 40,
   "metadata": {
    "id": "wnh8jYXi0q1N"
   },
   "outputs": [
    {
     "name": "stdout",
     "output_type": "stream",
     "text": [
      "Media del tráfico de Internet mensual por plan:\n",
      "plan\n",
      "surf        16717.702137\n",
      "ultimate    17238.642253\n",
      "Name: mb_used, dtype: float64\n",
      "\n",
      "Varianza del tráfico de Internet mensual por plan:\n",
      "plan\n",
      "surf        6.216823e+07\n",
      "ultimate    6.132485e+07\n",
      "Name: mb_used, dtype: float64\n"
     ]
    }
   ],
   "source": [
    "print(\"Media del tráfico de Internet mensual por plan:\")\n",
    "print(mean_internet_usage_by_plan)\n",
    "print(\"\\nVarianza del tráfico de Internet mensual por plan:\")\n",
    "print(variance_internet_usage_by_plan)"
   ]
  },
  {
   "cell_type": "code",
   "execution_count": 41,
   "metadata": {
    "id": "5VlyJ9ry0q1N"
   },
   "outputs": [
    {
     "data": {
      "text/plain": [
       "<Figure size 1400x800 with 0 Axes>"
      ]
     },
     "metadata": {},
     "output_type": "display_data"
    },
    {
     "data": {
      "image/png": "[encoded data removed]",
      "text/plain": [
       "<Figure size 640x480 with 1 Axes>"
      ]
     },
     "metadata": {},
     "output_type": "display_data"
    }
   ],
   "source": [
    "plt.figure(figsize=(14, 8))\n",
    "monthly_internet_usage.boxplot(column='mb_used', by='plan', grid=False)\n",
    "plt.title('Distribución del Tráfico de Internet Mensual por Plan')\n",
    "plt.suptitle('')\n",
    "plt.xlabel('Plan')\n",
    "plt.ylabel('Tráfico de Internet Mensual (MB)')\n",
    "plt.grid(True, linestyle='--', alpha=0.7)\n",
    "plt.tight_layout()\n",
    "plt.show()"
   ]
  },
  {
   "cell_type": "markdown",
   "metadata": {
    "id": "UN9zwuMP0q1N"
   },
   "source": [
    "[Elabora las conclusiones sobre cómo los usuarios tienden a consumir el tráfico de Internet. ¿Su comportamiento varía en función del plan?]\n",
    "Los usuarios del plan Ultimate consumen, en promedio, más datos de internet mensualmente  que los del plan Surf pero la diferencia no es muy considerable \n",
    "La varianza es similar entre ambos por que la dispersion de los datos es cas igual, y el diagrama de caja nos dice que ambos planes tienen una distribución similar en cuanto al tráfico de Internet mensual. La mayoría de los usuarios consumen menos de 30,000 MB por mes, con algunos outliers que consumen más de 50,000 MB, aunque se puede observar picos mas altos de outliers en el plan Surf."
   ]
  },
  {
   "cell_type": "markdown",
   "metadata": {
    "id": "tCijq3260q1N"
   },
   "source": [
    "## Ingreso"
   ]
  },
  {
   "cell_type": "markdown",
   "metadata": {
    "id": "9nq5IAcy0q1O"
   },
   "source": [
    "[Del mismo modo que has estudiado el comportamiento de los usuarios, describe estadísticamente los ingresos de los planes.]"
   ]
  },
  {
   "cell_type": "code",
   "execution_count": 40,
   "metadata": {
    "id": "tz-dq_V00q1O"
   },
   "outputs": [],
   "source": [
    "mean_revenue_by_plan = merged_data.groupby('plan')['monthly_revenue'].mean()\n",
    "variance_revenue_by_plan = merged_data.groupby('plan')['monthly_revenue'].var()"
   ]
  },
  {
   "cell_type": "code",
   "execution_count": 41,
   "metadata": {
    "id": "0Y1v8ZUz0q1P"
   },
   "outputs": [
    {
     "name": "stdout",
     "output_type": "stream",
     "text": [
      "Media de los ingresos mensuales por plan:\n",
      "plan\n",
      "surf        57.293784\n",
      "ultimate    72.116080\n",
      "Name: monthly_revenue, dtype: float64\n",
      "\n",
      "Varianza de los ingresos mensuales por plan:\n",
      "plan\n",
      "surf        2887.544971\n",
      "ultimate     115.968081\n",
      "Name: monthly_revenue, dtype: float64\n"
     ]
    }
   ],
   "source": [
    "print(\"Media de los ingresos mensuales por plan:\")\n",
    "print(mean_revenue_by_plan)\n",
    "print(\"\\nVarianza de los ingresos mensuales por plan:\")\n",
    "print(variance_revenue_by_plan)"
   ]
  },
  {
   "cell_type": "code",
   "execution_count": 42,
   "metadata": {
    "id": "bYmwxyVh0q1P"
   },
   "outputs": [
    {
     "data": {
      "text/plain": [
       "<Figure size 1400x800 with 0 Axes>"
      ]
     },
     "metadata": {},
     "output_type": "display_data"
    },
    {
     "data": {
      "image/png": "[encoded data removed]",
      "text/plain": [
       "<Figure size 640x480 with 1 Axes>"
      ]
     },
     "metadata": {},
     "output_type": "display_data"
    }
   ],
   "source": [
    "plt.figure(figsize=(14, 8))\n",
    "merged_data.boxplot(column='monthly_revenue', by='plan', grid=False)\n",
    "plt.title('Distribución de los Ingresos Mensuales por Plan')\n",
    "plt.suptitle('')\n",
    "plt.xlabel('Plan')\n",
    "plt.ylabel('Ingresos Mensuales (USD)')\n",
    "plt.grid(True, linestyle='--', alpha=0.7)\n",
    "plt.tight_layout()\n",
    "plt.show()\n",
    "plt.show()"
   ]
  },
  {
   "cell_type": "markdown",
   "metadata": {
    "id": "KAFidcXZ0q1P"
   },
   "source": [
    "[Elabora las conclusiones sobre cómo difiere el ingreso entre los planes.]"
   ]
  },
  {
   "cell_type": "markdown",
   "metadata": {
    "id": "ajJ7VKeI0q1Q"
   },
   "source": [
    "## Prueba las hipótesis estadísticas"
   ]
  },
  {
   "cell_type": "markdown",
   "metadata": {
    "id": "AdXAZ-yL0q1Q"
   },
   "source": [
    "[Prueba la hipótesis de que son diferentes los ingresos promedio procedentes de los usuarios de los planes de llamada Ultimate y Surf.]\n",
    "\n",
    "Los usuarios del plan Ultimate genera en promedio, una diferencia significativamente superiori ($72.12) que los usuarios del plan Surf ($57.29). La diferencia en los ingresos promedio nos quiere decir que este plan es mas lucrativo para la compania.\n",
    "La varianza en los ingresos mensuales es mucho mayor para el plan Surf (2887.54) en comparación con el plan Ultimate (115.97). Esto sugiere que hay una mayor variabilidad en los ingresos generados por los usuarios del plan Surf, pero esto se debe a que hay mas ganacias del mismo por lo que siguie siendo el paquete mas conveniente.\n",
    "El diagrama de caja muestra que la mayoría de los usuarios del plan Ultimate generan ingresos relativamente constantes, mientras que los usuarios del plan Surf muestran una mayor dispersión en los ingresos, con varios outliers (valores atípicos) que generan ingresos significativamente mayores."
   ]
  },
  {
   "cell_type": "markdown",
   "metadata": {
    "id": "IQwa_hsh0q1Q"
   },
   "source": [
    "[Elabora las hipótesis nula y alternativa, escoge la prueba estadística, determina el valor alfa.]"
   ]
  },
  {
   "cell_type": "code",
   "execution_count": 43,
   "metadata": {
    "id": "nFoPNlPq0q1R"
   },
   "outputs": [
    {
     "name": "stdout",
     "output_type": "stream",
     "text": [
      "Estadístico t: 10.489446388254443\n",
      "Valor p: 4.881852673479799e-25\n",
      "Rechazamos la hipótesis nula: los ingresos promedio son significativamente diferentes entre los planes Ultimate y Surf.\n"
     ]
    }
   ],
   "source": [
    "# Prueba las hipótesis\n",
    "ultimate_revenue = merged_data[merged_data['plan'] == 'ultimate']['monthly_revenue']\n",
    "surf_revenue = merged_data[merged_data['plan'] == 'surf']['monthly_revenue']\n",
    "t_stat, p_value = st.ttest_ind(ultimate_revenue, surf_revenue, equal_var=False)\n",
    "alpha = 0.05\n",
    "print(f\"Estadístico t: {t_stat}\")\n",
    "print(f\"Valor p: {p_value}\")\n",
    "if p_value < alpha:\n",
    "    print(\"Rechazamos la hipótesis nula: los ingresos promedio son significativamente diferentes entre los planes Ultimate y Surf.\")\n",
    "else:\n",
    "    print(\"No podemos rechazar la hipótesis nula: no hay suficiente evidencia para decir que los ingresos promedio son diferentes entre los planes Ultimate y Surf.\")\n"
   ]
  },
  {
   "cell_type": "markdown",
   "metadata": {
    "id": "tCcAruM60q1R"
   },
   "source": [
    "[Prueba la hipótesis de que el ingreso promedio de los usuarios del área NY-NJ es diferente al de los usuarios de otras regiones.]"
   ]
  },
  {
   "cell_type": "markdown",
   "metadata": {
    "id": "LsBgitqj0q1R"
   },
   "source": [
    "[Elabora las hipótesis nula y alternativa, escoge la prueba estadística, determina el valor alfa.]"
   ]
  },
  {
   "cell_type": "code",
   "execution_count": 54,
   "metadata": {
    "id": "Cqcj7wrZ0q1S"
   },
   "outputs": [
    {
     "name": "stdout",
     "output_type": "stream",
     "text": [
      "NY-NJ Revenue Data Count: 488\n",
      "Other Revenue Data Count: 1805\n",
      "Estadístico t: -1.7689588905016966\n",
      "Valor p: 0.07728806533735925\n",
      "No podemos rechazar la hipótesis nula: no hay suficiente evidencia para decir que los ingresos promedio son diferentes entre los usuarios del área NY-NJ y otras regiones.\n"
     ]
    }
   ],
   "source": [
    "\n",
    "\n",
    "\n",
    "\n",
    "merged_data = merged_data.merge(users[['user_id', 'city']], on='user_id', how='left')\n",
    "def determine_region(city):\n",
    "    if 'NY' in city or 'NJ' in city:\n",
    "        return 'NY-NJ'\n",
    "    else:\n",
    "        return 'Other'\n",
    "\n",
    "merged_data['region'] = merged_data['city'].apply(determine_region)\n",
    "\n",
    "ny_nj_revenue = merged_data[merged_data['region'] == 'NY-NJ']['monthly_revenue'].dropna()\n",
    "other_revenue = merged_data[merged_data['region'] == 'Other']['monthly_revenue'].dropna()\n",
    "\n",
    "print(f\"NY-NJ Revenue Data Count: {len(ny_nj_revenue)}\")\n",
    "print(f\"Other Revenue Data Count: {len(other_revenue)}\")\n",
    "\n",
    "if len(ny_nj_revenue) == 0 or len(other_revenue) == 0:\n",
    "    raise ValueError(\"No hay suficientes datos en una de las categorías para realizar la prueba t.\")\n",
    "\n",
    "\n",
    "t_stat, p_value = st.ttest_ind(ny_nj_revenue, other_revenue, equal_var=False)\n",
    "alpha = 0.05\n",
    "\n",
    "\n",
    "print(f\"Estadístico t: {t_stat}\")\n",
    "print(f\"Valor p: {p_value}\")\n",
    "\n",
    "if p_value < alpha:\n",
    "    print(\"Rechazamos la hipótesis nula: los ingresos promedio son significativamente diferentes entre los usuarios del área NY-NJ y otras regiones.\")\n",
    "else:\n",
    "    print(\"No podemos rechazar la hipótesis nula: no hay suficiente evidencia para decir que los ingresos promedio son diferentes entre los usuarios del área NY-NJ y otras regiones.\")\n",
    "\n"
   ]
  },
  {
   "cell_type": "markdown",
   "metadata": {
    "id": "bbTR8UQO0q1T"
   },
   "source": [
    "## Conclusión general\n",
    "\n",
    "[En esta sección final, enumera tus conclusiones importantes. Asegúrate de que estas abarquen todas las decisiones (suposiciones) importantes que adoptaste y que determinaron la forma elegida para procesar y analizar los datos.]\n",
    "Para la primera seccion del proyecto es importante considerar la correcta limpieza y tratado de los datos sobre todo los datos nulos y datos de fechas.\n",
    "En cuanto al segundo punto del proyecto podemos identificar que los datos en cuato a las llamadas que se realizan, los mensajes que se envian y los numeros de megas que se gastan son muy similares para ambos planes aunque cambian un poco en la frecuencia y las variables fuera de rango a favor del plan Surf la varianza y media es muy similar para ambios casos, excepto en el caso de los ingresos en donde se puede notar una sigificativa diferencia a favor del plan de Surf.\n",
    "Por ultimo tambien podimos concluir que los ingresos si son significativamente diferentes entre ambos planes y que las cuidades de NY y NJ son diferentes a las otras regiones al rechazar ambas hipotesis nulas.\n",
    "Por lo qe podemos concluir que el mejor plan o el plan que tendria que impulsar y conservar es el plan Surf al recibir mayores ingresos de este plan y presentar variables similares al otro plan."
   ]
  }
 ],
 "metadata": {
  "ExecuteTimeLog": [
   {
    "duration": 828,
    "start_time": "2021-11-16T09:21:11.304Z"
   },
   {
    "duration": 893,
    "start_time": "2021-11-16T09:21:17.728Z"
   },
   {
    "duration": 1150,
    "start_time": "2021-11-16T09:21:29.568Z"
   },
   {
    "duration": 3,
    "start_time": "2021-11-16T09:24:14.495Z"
   },
   {
    "duration": 120,
    "start_time": "2021-11-16T09:24:46.630Z"
   },
   {
    "duration": 3,
    "start_time": "2021-11-16T09:28:27.882Z"
   },
   {
    "duration": 4,
    "start_time": "2021-11-16T09:29:54.281Z"
   },
   {
    "duration": 3,
    "start_time": "2021-11-16T09:30:45.936Z"
   },
   {
    "duration": 4,
    "start_time": "2021-11-16T09:31:06.300Z"
   },
   {
    "duration": 113,
    "start_time": "2021-11-16T09:31:37.208Z"
   },
   {
    "duration": 143,
    "start_time": "2021-11-16T09:31:48.656Z"
   },
   {
    "duration": 98,
    "start_time": "2021-11-16T09:31:55.678Z"
   },
   {
    "duration": 3,
    "start_time": "2021-11-16T09:32:08.535Z"
   },
   {
    "duration": 111,
    "start_time": "2021-11-16T09:32:10.120Z"
   },
   {
    "duration": 3,
    "start_time": "2021-11-16T09:32:15.732Z"
   },
   {
    "duration": 4,
    "start_time": "2021-11-16T09:32:29.423Z"
   },
   {
    "duration": 3,
    "start_time": "2021-11-16T10:03:03.074Z"
   },
   {
    "duration": 3,
    "start_time": "2021-11-16T10:10:01.288Z"
   },
   {
    "duration": 3,
    "start_time": "2021-11-16T10:10:46.923Z"
   },
   {
    "duration": 121,
    "start_time": "2021-11-16T10:37:46.494Z"
   },
   {
    "duration": 125,
    "start_time": "2021-11-16T10:38:20.632Z"
   },
   {
    "duration": 112,
    "start_time": "2021-11-16T10:46:53.001Z"
   },
   {
    "duration": 110,
    "start_time": "2021-11-16T10:48:25.775Z"
   },
   {
    "duration": 3,
    "start_time": "2021-11-16T10:50:18.720Z"
   },
   {
    "duration": 4,
    "start_time": "2021-11-16T10:50:37.649Z"
   },
   {
    "duration": 2,
    "start_time": "2021-11-16T10:50:51.884Z"
   },
   {
    "duration": 3,
    "start_time": "2021-11-16T10:51:56.237Z"
   },
   {
    "duration": 101,
    "start_time": "2021-11-16T10:53:13.791Z"
   },
   {
    "duration": 3,
    "start_time": "2021-11-16T10:55:59.186Z"
   },
   {
    "duration": 3,
    "start_time": "2021-11-16T10:56:10.751Z"
   },
   {
    "duration": 3,
    "start_time": "2021-11-16T10:56:49.038Z"
   },
   {
    "duration": 3,
    "start_time": "2021-11-16T10:56:49.174Z"
   },
   {
    "duration": 4,
    "start_time": "2021-11-16T10:56:49.414Z"
   },
   {
    "duration": 3,
    "start_time": "2021-11-16T10:56:49.680Z"
   },
   {
    "duration": 3,
    "start_time": "2021-11-16T10:56:50.370Z"
   },
   {
    "duration": 114,
    "start_time": "2021-11-16T10:59:34.518Z"
   },
   {
    "duration": 3,
    "start_time": "2021-11-16T11:01:41.201Z"
   },
   {
    "duration": 116,
    "start_time": "2021-11-16T11:01:48.754Z"
   },
   {
    "duration": 3,
    "start_time": "2021-11-16T11:02:16.685Z"
   },
   {
    "duration": 3,
    "start_time": "2021-11-16T11:02:19.479Z"
   },
   {
    "duration": 3,
    "start_time": "2021-11-16T11:02:47.067Z"
   },
   {
    "duration": 3,
    "start_time": "2021-11-16T11:02:49.353Z"
   },
   {
    "duration": 3,
    "start_time": "2021-11-16T11:03:07.835Z"
   },
   {
    "duration": 3,
    "start_time": "2021-11-16T11:03:07.953Z"
   },
   {
    "duration": 112,
    "start_time": "2021-11-16T11:07:52.072Z"
   },
   {
    "duration": 187,
    "start_time": "2021-11-16T11:09:23.468Z"
   },
   {
    "duration": 4,
    "start_time": "2021-11-16T11:10:01.455Z"
   },
   {
    "duration": 3,
    "start_time": "2021-11-16T11:10:05.069Z"
   },
   {
    "duration": 4,
    "start_time": "2021-11-16T11:10:13.376Z"
   },
   {
    "duration": 3,
    "start_time": "2021-11-16T11:10:14.434Z"
   },
   {
    "duration": 3,
    "start_time": "2021-11-16T11:10:22.853Z"
   },
   {
    "duration": 4,
    "start_time": "2021-11-16T11:27:29.279Z"
   },
   {
    "duration": 4,
    "start_time": "2021-11-16T11:29:08.919Z"
   },
   {
    "duration": 118,
    "start_time": "2021-11-16T11:29:46.703Z"
   },
   {
    "duration": 437,
    "start_time": "2021-11-16T11:36:02.181Z"
   },
   {
    "duration": 157,
    "start_time": "2021-11-16T11:36:14.388Z"
   },
   {
    "duration": 207,
    "start_time": "2021-11-16T11:47:15.898Z"
   },
   {
    "duration": 3,
    "start_time": "2021-11-16T11:53:52.092Z"
   },
   {
    "duration": 3,
    "start_time": "2021-11-16T11:53:52.236Z"
   },
   {
    "duration": 3,
    "start_time": "2021-11-16T11:59:12.005Z"
   },
   {
    "duration": 112,
    "start_time": "2021-11-16T12:00:33.446Z"
   },
   {
    "duration": 3,
    "start_time": "2021-11-16T12:02:14.453Z"
   },
   {
    "duration": 3,
    "start_time": "2021-11-16T12:02:39.512Z"
   },
   {
    "duration": 106,
    "start_time": "2021-11-16T12:03:03.460Z"
   },
   {
    "duration": 3,
    "start_time": "2021-11-17T20:37:21.139Z"
   },
   {
    "duration": 3,
    "start_time": "2021-11-17T20:37:22.229Z"
   },
   {
    "duration": 3,
    "start_time": "2021-11-17T20:38:38.806Z"
   },
   {
    "duration": 3,
    "start_time": "2021-11-17T20:38:41.958Z"
   },
   {
    "duration": 3,
    "start_time": "2021-11-17T20:43:46.551Z"
   },
   {
    "duration": 4,
    "start_time": "2021-11-17T20:58:21.835Z"
   },
   {
    "duration": 3,
    "start_time": "2021-11-17T20:59:21.872Z"
   },
   {
    "duration": 4,
    "start_time": "2021-11-17T20:59:45.352Z"
   },
   {
    "duration": 4,
    "start_time": "2021-11-17T20:59:49.646Z"
   },
   {
    "duration": 159,
    "start_time": "2021-11-17T21:02:26.949Z"
   },
   {
    "duration": 3,
    "start_time": "2021-11-17T21:03:53.461Z"
   },
   {
    "duration": 3,
    "start_time": "2021-11-17T21:03:53.694Z"
   },
   {
    "duration": 3,
    "start_time": "2021-11-17T21:05:28.145Z"
   },
   {
    "duration": 116,
    "start_time": "2021-11-17T21:05:57.787Z"
   },
   {
    "duration": 3,
    "start_time": "2021-11-17T21:06:37.993Z"
   },
   {
    "duration": 3,
    "start_time": "2021-11-17T21:06:38.261Z"
   },
   {
    "duration": 3,
    "start_time": "2021-11-17T21:11:54.358Z"
   },
   {
    "duration": 3,
    "start_time": "2021-11-17T21:12:43.846Z"
   },
   {
    "duration": 4,
    "start_time": "2021-11-17T21:13:08.773Z"
   },
   {
    "duration": 3,
    "start_time": "2021-11-17T21:14:44.441Z"
   },
   {
    "duration": 3,
    "start_time": "2021-11-17T21:15:42.059Z"
   },
   {
    "duration": 4,
    "start_time": "2021-11-17T21:15:51.995Z"
   },
   {
    "duration": 3,
    "start_time": "2021-11-17T21:15:53.923Z"
   },
   {
    "duration": 3,
    "start_time": "2021-11-17T21:15:55.282Z"
   },
   {
    "duration": 3,
    "start_time": "2021-11-17T21:16:28.492Z"
   },
   {
    "duration": 3,
    "start_time": "2021-11-17T21:16:32.603Z"
   },
   {
    "duration": 3,
    "start_time": "2021-11-17T21:17:06.941Z"
   },
   {
    "duration": 98,
    "start_time": "2021-11-17T21:18:05.733Z"
   },
   {
    "duration": 4,
    "start_time": "2021-11-17T21:21:35.255Z"
   },
   {
    "duration": 3,
    "start_time": "2021-11-17T21:21:37.804Z"
   },
   {
    "duration": 4,
    "start_time": "2021-11-17T21:23:06.071Z"
   },
   {
    "duration": 3,
    "start_time": "2021-11-17T21:23:24.799Z"
   },
   {
    "duration": 3,
    "start_time": "2021-11-17T21:23:32.591Z"
   },
   {
    "duration": 98,
    "start_time": "2021-11-17T21:28:31.559Z"
   },
   {
    "duration": 3,
    "start_time": "2021-11-17T21:28:45.448Z"
   },
   {
    "duration": 3,
    "start_time": "2021-11-17T21:29:17.303Z"
   },
   {
    "duration": 3,
    "start_time": "2021-11-17T21:29:29.617Z"
   },
   {
    "duration": 3,
    "start_time": "2021-11-17T21:29:32.681Z"
   },
   {
    "duration": 3,
    "start_time": "2021-11-17T21:36:11.474Z"
   },
   {
    "duration": 3,
    "start_time": "2021-11-17T21:36:14.791Z"
   },
   {
    "duration": 3,
    "start_time": "2021-11-17T21:36:53.943Z"
   },
   {
    "duration": 3,
    "start_time": "2021-11-17T21:36:56.165Z"
   },
   {
    "duration": 4,
    "start_time": "2021-11-17T21:37:16.590Z"
   },
   {
    "duration": 3,
    "start_time": "2021-11-17T21:37:22.702Z"
   },
   {
    "duration": 4,
    "start_time": "2021-11-17T21:38:03.479Z"
   },
   {
    "duration": 3,
    "start_time": "2021-11-17T21:38:08.601Z"
   },
   {
    "duration": 3,
    "start_time": "2021-11-17T21:38:12.928Z"
   },
   {
    "duration": 3,
    "start_time": "2021-11-17T21:38:48.896Z"
   },
   {
    "duration": 2,
    "start_time": "2021-11-17T21:38:49.171Z"
   },
   {
    "duration": 4,
    "start_time": "2021-11-17T21:39:57.889Z"
   },
   {
    "duration": 3,
    "start_time": "2021-11-17T21:39:58.057Z"
   },
   {
    "duration": 3,
    "start_time": "2021-11-17T21:41:20.108Z"
   },
   {
    "duration": 3,
    "start_time": "2021-11-17T21:41:20.629Z"
   },
   {
    "duration": 3,
    "start_time": "2021-11-17T21:42:49.136Z"
   },
   {
    "duration": 3,
    "start_time": "2021-11-17T21:43:15.137Z"
   },
   {
    "duration": 4,
    "start_time": "2021-11-17T21:43:16.766Z"
   },
   {
    "duration": 4,
    "start_time": "2021-11-17T21:43:31.711Z"
   },
   {
    "duration": 3,
    "start_time": "2021-11-17T21:43:36.312Z"
   },
   {
    "duration": 4,
    "start_time": "2021-11-17T21:45:08.825Z"
   },
   {
    "duration": 4,
    "start_time": "2021-11-17T21:45:10.119Z"
   },
   {
    "duration": 4,
    "start_time": "2021-11-17T21:45:13.748Z"
   },
   {
    "duration": 3,
    "start_time": "2021-11-17T21:45:22.219Z"
   },
   {
    "duration": 3,
    "start_time": "2021-11-17T21:45:33.412Z"
   },
   {
    "duration": 2,
    "start_time": "2021-11-17T21:46:01.885Z"
   },
   {
    "duration": 3,
    "start_time": "2021-11-17T21:46:03.628Z"
   },
   {
    "duration": 107,
    "start_time": "2021-11-17T21:47:32.512Z"
   },
   {
    "duration": 103,
    "start_time": "2021-11-17T21:50:36.243Z"
   },
   {
    "duration": 3,
    "start_time": "2021-11-18T06:28:31.440Z"
   },
   {
    "duration": 3,
    "start_time": "2021-11-18T06:29:00.168Z"
   },
   {
    "duration": 3,
    "start_time": "2021-11-18T06:31:27.008Z"
   },
   {
    "duration": 2,
    "start_time": "2021-11-18T06:35:34.288Z"
   },
   {
    "duration": 2,
    "start_time": "2021-11-18T06:38:04.527Z"
   },
   {
    "duration": 847,
    "start_time": "2024-07-26T05:00:25.349Z"
   },
   {
    "duration": 378,
    "start_time": "2024-07-26T05:00:53.467Z"
   },
   {
    "duration": 36,
    "start_time": "2024-07-26T05:01:06.266Z"
   },
   {
    "duration": 22,
    "start_time": "2024-07-26T05:05:43.213Z"
   },
   {
    "duration": 24,
    "start_time": "2024-07-26T05:05:55.251Z"
   },
   {
    "duration": 28,
    "start_time": "2024-07-26T05:07:51.546Z"
   },
   {
    "duration": 38,
    "start_time": "2024-07-26T05:08:25.285Z"
   },
   {
    "duration": 60,
    "start_time": "2024-07-26T05:08:44.565Z"
   },
   {
    "duration": 8,
    "start_time": "2024-07-26T05:10:02.856Z"
   },
   {
    "duration": 9,
    "start_time": "2024-07-26T05:10:57.342Z"
   },
   {
    "duration": 6,
    "start_time": "2024-07-26T05:24:55.914Z"
   },
   {
    "duration": 9,
    "start_time": "2024-07-26T05:25:13.117Z"
   },
   {
    "duration": 11,
    "start_time": "2024-07-26T05:25:23.439Z"
   },
   {
    "duration": 31,
    "start_time": "2024-07-26T05:27:46.099Z"
   },
   {
    "duration": 9,
    "start_time": "2024-07-26T05:28:27.025Z"
   },
   {
    "duration": 156,
    "start_time": "2024-07-26T05:30:12.926Z"
   },
   {
    "duration": 9,
    "start_time": "2024-07-26T05:30:48.307Z"
   },
   {
    "duration": 10,
    "start_time": "2024-07-26T05:30:57.343Z"
   },
   {
    "duration": 7,
    "start_time": "2024-07-26T05:31:15.277Z"
   },
   {
    "duration": 82,
    "start_time": "2024-07-26T05:32:53.964Z"
   },
   {
    "duration": 420,
    "start_time": "2024-07-26T05:33:17.898Z"
   },
   {
    "duration": 6,
    "start_time": "2024-07-26T05:33:27.028Z"
   },
   {
    "duration": 136,
    "start_time": "2024-07-26T05:34:55.324Z"
   },
   {
    "duration": 7,
    "start_time": "2024-07-26T05:35:02.679Z"
   },
   {
    "duration": 13,
    "start_time": "2024-07-26T05:35:55.581Z"
   },
   {
    "duration": 7,
    "start_time": "2024-07-26T05:47:38.250Z"
   },
   {
    "duration": 5,
    "start_time": "2024-07-26T05:47:51.991Z"
   },
   {
    "duration": 21,
    "start_time": "2024-07-26T05:48:04.486Z"
   },
   {
    "duration": 28,
    "start_time": "2024-07-26T05:56:28.470Z"
   },
   {
    "duration": 18,
    "start_time": "2024-07-26T05:56:59.788Z"
   },
   {
    "duration": 12,
    "start_time": "2024-07-26T05:57:59.373Z"
   },
   {
    "duration": 13,
    "start_time": "2024-07-26T05:58:07.038Z"
   },
   {
    "duration": 11,
    "start_time": "2024-07-26T06:01:44.980Z"
   },
   {
    "duration": 50,
    "start_time": "2024-07-26T06:02:17.788Z"
   },
   {
    "duration": 27,
    "start_time": "2024-07-26T06:02:30.946Z"
   },
   {
    "duration": 23,
    "start_time": "2024-07-26T06:09:17.010Z"
   },
   {
    "duration": 18,
    "start_time": "2024-07-26T06:09:30.811Z"
   },
   {
    "duration": 17,
    "start_time": "2024-07-26T06:10:30.448Z"
   },
   {
    "duration": 20,
    "start_time": "2024-07-26T06:10:55.957Z"
   },
   {
    "duration": 834,
    "start_time": "2024-07-26T06:18:37.360Z"
   },
   {
    "duration": 22,
    "start_time": "2024-07-26T06:18:52.169Z"
   },
   {
    "duration": 7,
    "start_time": "2024-07-26T06:19:09.853Z"
   },
   {
    "duration": 29,
    "start_time": "2024-07-26T06:21:32.358Z"
   },
   {
    "duration": 31,
    "start_time": "2024-07-26T06:21:48.910Z"
   },
   {
    "duration": 31,
    "start_time": "2024-07-26T06:22:02.858Z"
   },
   {
    "duration": 30,
    "start_time": "2024-07-26T06:22:18.772Z"
   },
   {
    "duration": 10,
    "start_time": "2024-07-26T06:24:10.994Z"
   },
   {
    "duration": 26,
    "start_time": "2024-07-26T06:24:24.947Z"
   },
   {
    "duration": 26,
    "start_time": "2024-07-26T06:24:37.935Z"
   },
   {
    "duration": 858,
    "start_time": "2024-07-26T06:25:04.552Z"
   },
   {
    "duration": 289,
    "start_time": "2024-07-26T06:25:07.311Z"
   },
   {
    "duration": 44,
    "start_time": "2024-07-26T06:25:09.694Z"
   },
   {
    "duration": 11,
    "start_time": "2024-07-26T06:25:13.726Z"
   },
   {
    "duration": 27,
    "start_time": "2024-07-26T06:25:18.235Z"
   },
   {
    "duration": 8,
    "start_time": "2024-07-26T06:25:20.885Z"
   },
   {
    "duration": 9,
    "start_time": "2024-07-26T06:25:24.403Z"
   },
   {
    "duration": 24,
    "start_time": "2024-07-26T06:25:32.911Z"
   },
   {
    "duration": 155,
    "start_time": "2024-07-26T06:25:38.090Z"
   },
   {
    "duration": 8,
    "start_time": "2024-07-26T06:25:48.467Z"
   },
   {
    "duration": 28,
    "start_time": "2024-07-26T06:25:51.320Z"
   },
   {
    "duration": 30,
    "start_time": "2024-07-26T06:25:53.788Z"
   },
   {
    "duration": 77,
    "start_time": "2024-07-26T06:26:01.105Z"
   },
   {
    "duration": 6,
    "start_time": "2024-07-26T06:26:03.233Z"
   },
   {
    "duration": 18,
    "start_time": "2024-07-26T06:26:05.429Z"
   },
   {
    "duration": 21,
    "start_time": "2024-07-26T06:26:07.535Z"
   },
   {
    "duration": 125,
    "start_time": "2024-07-26T06:26:09.504Z"
   },
   {
    "duration": 8,
    "start_time": "2024-07-26T06:26:18.859Z"
   },
   {
    "duration": 23,
    "start_time": "2024-07-26T06:26:21.275Z"
   },
   {
    "duration": 26,
    "start_time": "2024-07-26T06:26:23.479Z"
   },
   {
    "duration": 7,
    "start_time": "2024-07-26T06:26:27.708Z"
   },
   {
    "duration": 31,
    "start_time": "2024-07-26T06:29:25.515Z"
   },
   {
    "duration": 30,
    "start_time": "2024-07-26T06:29:47.720Z"
   },
   {
    "duration": 30,
    "start_time": "2024-07-26T06:29:59.256Z"
   },
   {
    "duration": 325,
    "start_time": "2024-07-27T03:56:35.573Z"
   },
   {
    "duration": 24,
    "start_time": "2024-07-27T03:56:49.792Z"
   },
   {
    "duration": 29,
    "start_time": "2024-07-27T03:56:53.114Z"
   },
   {
    "duration": 926,
    "start_time": "2024-07-27T03:57:05.734Z"
   },
   {
    "duration": 388,
    "start_time": "2024-07-27T03:57:09.181Z"
   },
   {
    "duration": 44,
    "start_time": "2024-07-27T03:57:12.534Z"
   },
   {
    "duration": 9,
    "start_time": "2024-07-27T03:57:17.902Z"
   },
   {
    "duration": 13,
    "start_time": "2024-07-27T03:57:20.107Z"
   },
   {
    "duration": 29,
    "start_time": "2024-07-27T03:57:23.789Z"
   },
   {
    "duration": 10,
    "start_time": "2024-07-27T03:57:26.171Z"
   },
   {
    "duration": 12,
    "start_time": "2024-07-27T03:57:29.606Z"
   },
   {
    "duration": 23,
    "start_time": "2024-07-27T03:57:33.069Z"
   },
   {
    "duration": 162,
    "start_time": "2024-07-27T03:57:37.120Z"
   },
   {
    "duration": 7,
    "start_time": "2024-07-27T03:57:40.486Z"
   },
   {
    "duration": 32,
    "start_time": "2024-07-27T03:57:43.177Z"
   },
   {
    "duration": 45,
    "start_time": "2024-07-27T03:57:45.160Z"
   },
   {
    "duration": 83,
    "start_time": "2024-07-27T03:57:47.955Z"
   },
   {
    "duration": 9,
    "start_time": "2024-07-27T03:57:51.049Z"
   },
   {
    "duration": 24,
    "start_time": "2024-07-27T03:57:53.433Z"
   },
   {
    "duration": 20,
    "start_time": "2024-07-27T03:57:55.987Z"
   },
   {
    "duration": 189,
    "start_time": "2024-07-27T03:57:59.946Z"
   },
   {
    "duration": 9,
    "start_time": "2024-07-27T03:58:04.082Z"
   },
   {
    "duration": 23,
    "start_time": "2024-07-27T03:58:06.698Z"
   },
   {
    "duration": 28,
    "start_time": "2024-07-27T03:58:08.930Z"
   },
   {
    "duration": 7,
    "start_time": "2024-07-27T03:58:12.305Z"
   },
   {
    "duration": 74,
    "start_time": "2024-07-27T03:58:17.913Z"
   },
   {
    "duration": 61,
    "start_time": "2024-07-27T03:59:22.818Z"
   },
   {
    "duration": 63,
    "start_time": "2024-07-27T04:03:25.037Z"
   },
   {
    "duration": 456,
    "start_time": "2024-07-27T04:09:37.056Z"
   },
   {
    "duration": 48,
    "start_time": "2024-07-27T04:09:50.480Z"
   },
   {
    "duration": 59,
    "start_time": "2024-07-27T04:10:20.962Z"
   },
   {
    "duration": 908,
    "start_time": "2024-07-27T04:12:34.872Z"
   },
   {
    "duration": 46,
    "start_time": "2024-07-27T04:13:26.045Z"
   },
   {
    "duration": 43,
    "start_time": "2024-07-27T04:13:32.232Z"
   },
   {
    "duration": 886,
    "start_time": "2024-07-27T04:14:04.277Z"
   },
   {
    "duration": 286,
    "start_time": "2024-07-27T04:14:07.400Z"
   },
   {
    "duration": 43,
    "start_time": "2024-07-27T04:14:10.367Z"
   },
   {
    "duration": 8,
    "start_time": "2024-07-27T04:14:14.335Z"
   },
   {
    "duration": 12,
    "start_time": "2024-07-27T04:14:16.431Z"
   },
   {
    "duration": 30,
    "start_time": "2024-07-27T04:14:20.468Z"
   },
   {
    "duration": 10,
    "start_time": "2024-07-27T04:14:23.795Z"
   },
   {
    "duration": 8,
    "start_time": "2024-07-27T04:14:27.706Z"
   },
   {
    "duration": 23,
    "start_time": "2024-07-27T04:14:29.691Z"
   },
   {
    "duration": 166,
    "start_time": "2024-07-27T04:14:31.959Z"
   },
   {
    "duration": 13,
    "start_time": "2024-07-27T04:14:35.389Z"
   },
   {
    "duration": 34,
    "start_time": "2024-07-27T04:14:38.629Z"
   },
   {
    "duration": 42,
    "start_time": "2024-07-27T04:14:42.045Z"
   },
   {
    "duration": 79,
    "start_time": "2024-07-27T04:14:45.043Z"
   },
   {
    "duration": 7,
    "start_time": "2024-07-27T04:14:48.335Z"
   },
   {
    "duration": 29,
    "start_time": "2024-07-27T04:14:51.844Z"
   },
   {
    "duration": 21,
    "start_time": "2024-07-27T04:14:53.683Z"
   },
   {
    "duration": 159,
    "start_time": "2024-07-27T04:14:56.279Z"
   },
   {
    "duration": 12,
    "start_time": "2024-07-27T04:14:58.306Z"
   },
   {
    "duration": 23,
    "start_time": "2024-07-27T04:15:00.452Z"
   },
   {
    "duration": 34,
    "start_time": "2024-07-27T04:15:02.669Z"
   },
   {
    "duration": 9,
    "start_time": "2024-07-27T04:15:06.525Z"
   },
   {
    "duration": 74,
    "start_time": "2024-07-27T04:15:08.807Z"
   },
   {
    "duration": 78,
    "start_time": "2024-07-27T04:15:10.999Z"
   },
   {
    "duration": 454,
    "start_time": "2024-07-27T04:15:13.092Z"
   },
   {
    "duration": 68,
    "start_time": "2024-07-27T04:16:09.066Z"
   },
   {
    "duration": 786,
    "start_time": "2024-07-27T04:16:50.175Z"
   },
   {
    "duration": 67,
    "start_time": "2024-07-27T04:17:08.927Z"
   },
   {
    "duration": 67,
    "start_time": "2024-07-27T04:17:27.985Z"
   },
   {
    "duration": 114,
    "start_time": "2024-07-27T04:18:15.246Z"
   },
   {
    "duration": 12,
    "start_time": "2024-07-27T04:18:50.694Z"
   },
   {
    "duration": 886,
    "start_time": "2024-07-27T17:57:32.470Z"
   },
   {
    "duration": 448,
    "start_time": "2024-07-27T17:57:37.689Z"
   },
   {
    "duration": 48,
    "start_time": "2024-07-27T17:57:41.268Z"
   },
   {
    "duration": 8,
    "start_time": "2024-07-27T17:57:44.869Z"
   },
   {
    "duration": 12,
    "start_time": "2024-07-27T17:57:47.440Z"
   },
   {
    "duration": 34,
    "start_time": "2024-07-27T17:57:51.159Z"
   },
   {
    "duration": 9,
    "start_time": "2024-07-27T17:57:53.511Z"
   },
   {
    "duration": 9,
    "start_time": "2024-07-27T17:57:56.444Z"
   },
   {
    "duration": 25,
    "start_time": "2024-07-27T17:57:58.945Z"
   },
   {
    "duration": 192,
    "start_time": "2024-07-27T17:58:02.672Z"
   },
   {
    "duration": 8,
    "start_time": "2024-07-27T17:58:05.623Z"
   },
   {
    "duration": 32,
    "start_time": "2024-07-27T17:58:08.430Z"
   },
   {
    "duration": 35,
    "start_time": "2024-07-27T17:58:10.620Z"
   },
   {
    "duration": 87,
    "start_time": "2024-07-27T17:58:14.234Z"
   },
   {
    "duration": 7,
    "start_time": "2024-07-27T17:58:16.874Z"
   },
   {
    "duration": 19,
    "start_time": "2024-07-27T17:58:21.164Z"
   },
   {
    "duration": 23,
    "start_time": "2024-07-27T17:58:24.042Z"
   },
   {
    "duration": 127,
    "start_time": "2024-07-27T17:58:27.145Z"
   },
   {
    "duration": 8,
    "start_time": "2024-07-27T17:58:29.581Z"
   },
   {
    "duration": 24,
    "start_time": "2024-07-27T17:58:32.359Z"
   },
   {
    "duration": 29,
    "start_time": "2024-07-27T17:58:36.260Z"
   },
   {
    "duration": 7,
    "start_time": "2024-07-27T17:58:39.863Z"
   },
   {
    "duration": 77,
    "start_time": "2024-07-27T18:00:40.795Z"
   },
   {
    "duration": 72,
    "start_time": "2024-07-27T18:00:47.686Z"
   },
   {
    "duration": 64,
    "start_time": "2024-07-27T18:00:50.291Z"
   },
   {
    "duration": 67,
    "start_time": "2024-07-27T18:00:53.615Z"
   },
   {
    "duration": 168,
    "start_time": "2024-07-27T18:02:10.138Z"
   },
   {
    "duration": 15,
    "start_time": "2024-07-27T18:02:38.829Z"
   },
   {
    "duration": 2080,
    "start_time": "2024-07-27T18:05:37.354Z"
   },
   {
    "duration": 194,
    "start_time": "2024-07-27T18:05:44.945Z"
   },
   {
    "duration": 152,
    "start_time": "2024-07-27T18:10:25.114Z"
   },
   {
    "duration": 559,
    "start_time": "2024-07-27T18:15:23.022Z"
   },
   {
    "duration": 111,
    "start_time": "2024-07-27T18:15:52.783Z"
   },
   {
    "duration": 291,
    "start_time": "2024-07-27T18:18:09.062Z"
   },
   {
    "duration": 61,
    "start_time": "2024-07-27T18:21:27.403Z"
   },
   {
    "duration": 886,
    "start_time": "2024-07-27T18:21:57.352Z"
   },
   {
    "duration": 4,
    "start_time": "2024-07-27T18:22:00.214Z"
   },
   {
    "duration": 847,
    "start_time": "2024-07-27T18:22:07.348Z"
   },
   {
    "duration": 277,
    "start_time": "2024-07-27T18:22:10.521Z"
   },
   {
    "duration": 42,
    "start_time": "2024-07-27T18:22:13.179Z"
   },
   {
    "duration": 9,
    "start_time": "2024-07-27T18:22:15.654Z"
   },
   {
    "duration": 11,
    "start_time": "2024-07-27T18:22:18.219Z"
   },
   {
    "duration": 27,
    "start_time": "2024-07-27T18:22:20.913Z"
   },
   {
    "duration": 11,
    "start_time": "2024-07-27T18:22:22.852Z"
   },
   {
    "duration": 7,
    "start_time": "2024-07-27T18:22:26.088Z"
   },
   {
    "duration": 22,
    "start_time": "2024-07-27T18:22:28.934Z"
   },
   {
    "duration": 158,
    "start_time": "2024-07-27T18:22:31.306Z"
   },
   {
    "duration": 7,
    "start_time": "2024-07-27T18:22:33.607Z"
   },
   {
    "duration": 29,
    "start_time": "2024-07-27T18:22:35.749Z"
   },
   {
    "duration": 31,
    "start_time": "2024-07-27T18:22:39.421Z"
   },
   {
    "duration": 81,
    "start_time": "2024-07-27T18:22:41.500Z"
   },
   {
    "duration": 6,
    "start_time": "2024-07-27T18:22:44.060Z"
   },
   {
    "duration": 18,
    "start_time": "2024-07-27T18:22:46.242Z"
   },
   {
    "duration": 21,
    "start_time": "2024-07-27T18:22:48.008Z"
   },
   {
    "duration": 128,
    "start_time": "2024-07-27T18:22:50.094Z"
   },
   {
    "duration": 8,
    "start_time": "2024-07-27T18:22:53.660Z"
   },
   {
    "duration": 24,
    "start_time": "2024-07-27T18:22:55.976Z"
   },
   {
    "duration": 32,
    "start_time": "2024-07-27T18:22:58.268Z"
   },
   {
    "duration": 7,
    "start_time": "2024-07-27T18:23:00.476Z"
   },
   {
    "duration": 66,
    "start_time": "2024-07-27T18:23:02.716Z"
   },
   {
    "duration": 70,
    "start_time": "2024-07-27T18:23:04.900Z"
   },
   {
    "duration": 57,
    "start_time": "2024-07-27T18:23:06.742Z"
   },
   {
    "duration": 64,
    "start_time": "2024-07-27T18:23:09.111Z"
   },
   {
    "duration": 156,
    "start_time": "2024-07-27T18:23:12.609Z"
   },
   {
    "duration": 18,
    "start_time": "2024-07-27T18:23:15.131Z"
   },
   {
    "duration": 1241,
    "start_time": "2024-07-27T18:24:07.416Z"
   },
   {
    "duration": 419,
    "start_time": "2024-07-27T18:25:18.180Z"
   },
   {
    "duration": 364,
    "start_time": "2024-07-27T18:26:45.355Z"
   },
   {
    "duration": 237,
    "start_time": "2024-07-27T18:27:10.675Z"
   },
   {
    "duration": 55,
    "start_time": "2024-07-27T18:27:38.226Z"
   },
   {
    "duration": 895,
    "start_time": "2024-07-27T18:28:05.329Z"
   },
   {
    "duration": 263,
    "start_time": "2024-07-27T18:28:07.818Z"
   },
   {
    "duration": 46,
    "start_time": "2024-07-27T18:28:10.506Z"
   },
   {
    "duration": 10,
    "start_time": "2024-07-27T18:28:14.283Z"
   },
   {
    "duration": 11,
    "start_time": "2024-07-27T18:28:16.499Z"
   },
   {
    "duration": 26,
    "start_time": "2024-07-27T18:28:19.620Z"
   },
   {
    "duration": 9,
    "start_time": "2024-07-27T18:28:21.785Z"
   },
   {
    "duration": 7,
    "start_time": "2024-07-27T18:28:25.492Z"
   },
   {
    "duration": 21,
    "start_time": "2024-07-27T18:28:27.133Z"
   },
   {
    "duration": 169,
    "start_time": "2024-07-27T18:28:31.863Z"
   },
   {
    "duration": 8,
    "start_time": "2024-07-27T18:28:34.301Z"
   },
   {
    "duration": 28,
    "start_time": "2024-07-27T18:28:37.015Z"
   },
   {
    "duration": 40,
    "start_time": "2024-07-27T18:28:38.524Z"
   },
   {
    "duration": 90,
    "start_time": "2024-07-27T18:28:41.117Z"
   },
   {
    "duration": 11,
    "start_time": "2024-07-27T18:28:43.095Z"
   },
   {
    "duration": 18,
    "start_time": "2024-07-27T18:28:47.708Z"
   },
   {
    "duration": 20,
    "start_time": "2024-07-27T18:28:49.319Z"
   },
   {
    "duration": 123,
    "start_time": "2024-07-27T18:28:51.681Z"
   },
   {
    "duration": 8,
    "start_time": "2024-07-27T18:28:54.250Z"
   },
   {
    "duration": 22,
    "start_time": "2024-07-27T18:28:56.560Z"
   },
   {
    "duration": 26,
    "start_time": "2024-07-27T18:28:58.173Z"
   },
   {
    "duration": 9,
    "start_time": "2024-07-27T18:29:01.646Z"
   },
   {
    "duration": 72,
    "start_time": "2024-07-27T18:29:03.646Z"
   },
   {
    "duration": 72,
    "start_time": "2024-07-27T18:29:05.769Z"
   },
   {
    "duration": 63,
    "start_time": "2024-07-27T18:29:09.021Z"
   },
   {
    "duration": 69,
    "start_time": "2024-07-27T18:29:10.962Z"
   },
   {
    "duration": 161,
    "start_time": "2024-07-27T18:29:13.592Z"
   },
   {
    "duration": 16,
    "start_time": "2024-07-27T18:29:16.088Z"
   },
   {
    "duration": 1319,
    "start_time": "2024-07-27T18:29:20.304Z"
   },
   {
    "duration": 249,
    "start_time": "2024-07-27T18:30:04.822Z"
   },
   {
    "duration": 263,
    "start_time": "2024-07-27T18:32:41.667Z"
   },
   {
    "duration": 256,
    "start_time": "2024-07-27T18:33:08.221Z"
   },
   {
    "duration": 276,
    "start_time": "2024-07-27T18:33:37.860Z"
   },
   {
    "duration": 4494,
    "start_time": "2024-07-27T18:35:52.439Z"
   },
   {
    "duration": 703,
    "start_time": "2024-07-27T18:36:12.542Z"
   },
   {
    "duration": 128,
    "start_time": "2024-07-27T18:36:33.451Z"
   },
   {
    "duration": 643,
    "start_time": "2024-07-27T18:36:44.102Z"
   },
   {
    "duration": 599,
    "start_time": "2024-07-27T18:36:55.147Z"
   },
   {
    "duration": 141,
    "start_time": "2024-07-27T18:37:01.495Z"
   },
   {
    "duration": 729,
    "start_time": "2024-07-27T18:37:05.154Z"
   },
   {
    "duration": 181,
    "start_time": "2024-07-27T18:38:47.955Z"
   },
   {
    "duration": 897,
    "start_time": "2024-07-27T18:38:59.350Z"
   },
   {
    "duration": 629,
    "start_time": "2024-07-27T18:39:13.099Z"
   },
   {
    "duration": 180,
    "start_time": "2024-07-27T18:39:42.509Z"
   },
   {
    "duration": 781,
    "start_time": "2024-07-27T18:39:45.659Z"
   },
   {
    "duration": 231,
    "start_time": "2024-07-27T18:40:52.260Z"
   },
   {
    "duration": 742,
    "start_time": "2024-07-27T18:41:10.417Z"
   },
   {
    "duration": 289,
    "start_time": "2024-07-27T18:41:17.093Z"
   },
   {
    "duration": 775,
    "start_time": "2024-07-27T18:41:28.251Z"
   },
   {
    "duration": 26,
    "start_time": "2024-07-27T18:43:36.213Z"
   },
   {
    "duration": 22,
    "start_time": "2024-07-27T18:43:52.177Z"
   },
   {
    "duration": 216,
    "start_time": "2024-07-27T18:45:06.290Z"
   },
   {
    "duration": 20,
    "start_time": "2024-07-27T18:45:15.583Z"
   },
   {
    "duration": 91,
    "start_time": "2024-07-27T18:47:36.140Z"
   },
   {
    "duration": 105,
    "start_time": "2024-07-27T18:48:04.876Z"
   },
   {
    "duration": 222,
    "start_time": "2024-07-27T18:48:18.286Z"
   },
   {
    "duration": 375,
    "start_time": "2024-07-27T18:48:47.728Z"
   },
   {
    "duration": 308,
    "start_time": "2024-07-27T21:29:18.288Z"
   },
   {
    "duration": 28,
    "start_time": "2024-07-27T21:29:41.478Z"
   },
   {
    "duration": 27,
    "start_time": "2024-07-27T21:29:56.292Z"
   },
   {
    "duration": 28,
    "start_time": "2024-07-27T21:30:09.638Z"
   },
   {
    "duration": 841,
    "start_time": "2024-07-27T21:30:47.448Z"
   },
   {
    "duration": 351,
    "start_time": "2024-07-27T21:30:50.107Z"
   },
   {
    "duration": 42,
    "start_time": "2024-07-27T21:30:52.810Z"
   },
   {
    "duration": 8,
    "start_time": "2024-07-27T21:30:55.415Z"
   },
   {
    "duration": 11,
    "start_time": "2024-07-27T21:30:58.326Z"
   },
   {
    "duration": 26,
    "start_time": "2024-07-27T21:31:01.260Z"
   },
   {
    "duration": 11,
    "start_time": "2024-07-27T21:31:04.589Z"
   },
   {
    "duration": 8,
    "start_time": "2024-07-27T21:31:08.917Z"
   },
   {
    "duration": 21,
    "start_time": "2024-07-27T21:31:18.800Z"
   },
   {
    "duration": 169,
    "start_time": "2024-07-27T21:31:23.739Z"
   },
   {
    "duration": 9,
    "start_time": "2024-07-27T21:31:26.627Z"
   },
   {
    "duration": 28,
    "start_time": "2024-07-27T21:31:30.694Z"
   },
   {
    "duration": 37,
    "start_time": "2024-07-27T21:31:35.194Z"
   },
   {
    "duration": 78,
    "start_time": "2024-07-27T21:31:40.793Z"
   },
   {
    "duration": 17,
    "start_time": "2024-07-27T21:31:44.627Z"
   },
   {
    "duration": 855,
    "start_time": "2024-07-27T21:31:58.724Z"
   },
   {
    "duration": 261,
    "start_time": "2024-07-27T21:32:01.986Z"
   },
   {
    "duration": 43,
    "start_time": "2024-07-27T21:32:04.689Z"
   },
   {
    "duration": 9,
    "start_time": "2024-07-27T21:32:07.239Z"
   },
   {
    "duration": 13,
    "start_time": "2024-07-27T21:32:09.846Z"
   },
   {
    "duration": 26,
    "start_time": "2024-07-27T21:32:14.294Z"
   },
   {
    "duration": 9,
    "start_time": "2024-07-27T21:32:17.488Z"
   },
   {
    "duration": 7,
    "start_time": "2024-07-27T21:32:37.087Z"
   },
   {
    "duration": 23,
    "start_time": "2024-07-27T21:32:39.558Z"
   },
   {
    "duration": 158,
    "start_time": "2024-07-27T21:32:55.890Z"
   },
   {
    "duration": 7,
    "start_time": "2024-07-27T21:32:58.282Z"
   },
   {
    "duration": 29,
    "start_time": "2024-07-27T21:33:01.031Z"
   },
   {
    "duration": 36,
    "start_time": "2024-07-27T21:33:08.048Z"
   },
   {
    "duration": 78,
    "start_time": "2024-07-27T21:33:11.086Z"
   },
   {
    "duration": 7,
    "start_time": "2024-07-27T21:33:13.526Z"
   },
   {
    "duration": 18,
    "start_time": "2024-07-27T21:33:16.225Z"
   },
   {
    "duration": 22,
    "start_time": "2024-07-27T21:33:18.483Z"
   },
   {
    "duration": 120,
    "start_time": "2024-07-27T21:33:21.375Z"
   },
   {
    "duration": 7,
    "start_time": "2024-07-27T21:33:27.094Z"
   },
   {
    "duration": 22,
    "start_time": "2024-07-27T21:33:29.681Z"
   },
   {
    "duration": 25,
    "start_time": "2024-07-27T21:33:32.163Z"
   },
   {
    "duration": 8,
    "start_time": "2024-07-27T21:33:35.752Z"
   },
   {
    "duration": 63,
    "start_time": "2024-07-27T21:33:40.972Z"
   },
   {
    "duration": 72,
    "start_time": "2024-07-27T21:33:44.504Z"
   },
   {
    "duration": 58,
    "start_time": "2024-07-27T21:33:47.268Z"
   },
   {
    "duration": 61,
    "start_time": "2024-07-27T21:33:50.158Z"
   },
   {
    "duration": 168,
    "start_time": "2024-07-27T21:33:53.811Z"
   },
   {
    "duration": 16,
    "start_time": "2024-07-27T21:33:57.639Z"
   },
   {
    "duration": 270,
    "start_time": "2024-07-27T21:34:04.880Z"
   },
   {
    "duration": 4585,
    "start_time": "2024-07-27T21:34:09.754Z"
   },
   {
    "duration": 1240,
    "start_time": "2024-07-27T21:34:20.902Z"
   },
   {
    "duration": 92,
    "start_time": "2024-07-27T21:34:37.467Z"
   },
   {
    "duration": 169,
    "start_time": "2024-07-27T21:34:41.720Z"
   },
   {
    "duration": 122,
    "start_time": "2024-07-27T21:37:49.693Z"
   },
   {
    "duration": 710,
    "start_time": "2024-07-27T21:37:55.474Z"
   },
   {
    "duration": 58,
    "start_time": "2024-07-27T21:38:03.132Z"
   },
   {
    "duration": 350,
    "start_time": "2024-07-27T21:38:41.524Z"
   },
   {
    "duration": 317,
    "start_time": "2024-07-27T21:38:55.284Z"
   },
   {
    "duration": 431,
    "start_time": "2024-07-27T21:39:01.037Z"
   },
   {
    "duration": 314,
    "start_time": "2024-07-27T21:40:37.486Z"
   },
   {
    "duration": 6,
    "start_time": "2024-07-27T21:41:30.152Z"
   },
   {
    "duration": 46,
    "start_time": "2024-07-27T21:42:08.982Z"
   },
   {
    "duration": 6,
    "start_time": "2024-07-27T21:42:17.843Z"
   },
   {
    "duration": 380,
    "start_time": "2024-07-27T21:42:41.418Z"
   },
   {
    "duration": 25,
    "start_time": "2024-07-27T21:45:25.315Z"
   },
   {
    "duration": 7,
    "start_time": "2024-07-27T21:45:40.488Z"
   },
   {
    "duration": 6,
    "start_time": "2024-07-27T21:45:46.464Z"
   },
   {
    "duration": 350,
    "start_time": "2024-07-27T21:46:07.543Z"
   },
   {
    "duration": 11,
    "start_time": "2024-07-27T21:51:09.696Z"
   },
   {
    "duration": 447,
    "start_time": "2024-07-27T21:59:59.844Z"
   },
   {
    "duration": 6,
    "start_time": "2024-07-27T22:03:37.390Z"
   },
   {
    "duration": 81,
    "start_time": "2024-07-27T22:06:48.699Z"
   },
   {
    "duration": 23,
    "start_time": "2024-07-27T22:07:16.717Z"
   },
   {
    "duration": 13,
    "start_time": "2024-07-27T22:07:29.948Z"
   },
   {
    "duration": 12,
    "start_time": "2024-07-27T22:07:59.409Z"
   },
   {
    "duration": 334,
    "start_time": "2024-07-28T23:05:37.083Z"
   },
   {
    "duration": 952,
    "start_time": "2024-07-28T23:08:25.322Z"
   },
   {
    "duration": 118,
    "start_time": "2024-07-28T23:09:51.619Z"
   },
   {
    "duration": 854,
    "start_time": "2024-07-28T23:10:16.423Z"
   },
   {
    "duration": 350,
    "start_time": "2024-07-28T23:10:19.184Z"
   },
   {
    "duration": 42,
    "start_time": "2024-07-28T23:10:25.443Z"
   },
   {
    "duration": 9,
    "start_time": "2024-07-28T23:10:30.133Z"
   },
   {
    "duration": 11,
    "start_time": "2024-07-28T23:10:32.466Z"
   },
   {
    "duration": 27,
    "start_time": "2024-07-28T23:10:51.620Z"
   },
   {
    "duration": 12,
    "start_time": "2024-07-28T23:11:18.404Z"
   },
   {
    "duration": 7,
    "start_time": "2024-07-28T23:11:25.343Z"
   },
   {
    "duration": 21,
    "start_time": "2024-07-28T23:11:33.619Z"
   },
   {
    "duration": 155,
    "start_time": "2024-07-28T23:11:36.335Z"
   },
   {
    "duration": 9,
    "start_time": "2024-07-28T23:11:39.316Z"
   },
   {
    "duration": 27,
    "start_time": "2024-07-28T23:11:46.044Z"
   },
   {
    "duration": 36,
    "start_time": "2024-07-28T23:11:48.170Z"
   },
   {
    "duration": 80,
    "start_time": "2024-07-28T23:11:53.307Z"
   },
   {
    "duration": 7,
    "start_time": "2024-07-28T23:11:55.991Z"
   },
   {
    "duration": 18,
    "start_time": "2024-07-28T23:11:58.459Z"
   },
   {
    "duration": 21,
    "start_time": "2024-07-28T23:12:00.509Z"
   },
   {
    "duration": 119,
    "start_time": "2024-07-28T23:12:02.972Z"
   },
   {
    "duration": 8,
    "start_time": "2024-07-28T23:12:05.188Z"
   },
   {
    "duration": 23,
    "start_time": "2024-07-28T23:12:07.413Z"
   },
   {
    "duration": 26,
    "start_time": "2024-07-28T23:12:09.358Z"
   },
   {
    "duration": 7,
    "start_time": "2024-07-28T23:13:40.365Z"
   },
   {
    "duration": 66,
    "start_time": "2024-07-28T23:13:43.093Z"
   },
   {
    "duration": 66,
    "start_time": "2024-07-28T23:13:46.466Z"
   },
   {
    "duration": 60,
    "start_time": "2024-07-28T23:13:50.395Z"
   },
   {
    "duration": 70,
    "start_time": "2024-07-28T23:13:54.188Z"
   },
   {
    "duration": 159,
    "start_time": "2024-07-28T23:14:00.633Z"
   },
   {
    "duration": 15,
    "start_time": "2024-07-28T23:14:05.313Z"
   },
   {
    "duration": 257,
    "start_time": "2024-07-28T23:14:10.357Z"
   },
   {
    "duration": 1236,
    "start_time": "2024-07-28T23:14:35.434Z"
   },
   {
    "duration": 639,
    "start_time": "2024-07-28T23:14:50.960Z"
   },
   {
    "duration": 136,
    "start_time": "2024-07-28T23:14:55.685Z"
   },
   {
    "duration": 31,
    "start_time": "2024-07-28T23:15:03.401Z"
   },
   {
    "duration": 60,
    "start_time": "2024-07-28T23:15:36.176Z"
   },
   {
    "duration": 7,
    "start_time": "2024-07-28T23:15:37.888Z"
   },
   {
    "duration": 347,
    "start_time": "2024-07-28T23:15:40.131Z"
   },
   {
    "duration": 48,
    "start_time": "2024-07-28T23:15:43.859Z"
   },
   {
    "duration": 6,
    "start_time": "2024-07-28T23:15:45.599Z"
   },
   {
    "duration": 349,
    "start_time": "2024-07-28T23:15:47.767Z"
   },
   {
    "duration": 7,
    "start_time": "2024-07-28T23:15:51.040Z"
   },
   {
    "duration": 6,
    "start_time": "2024-07-28T23:15:52.436Z"
   },
   {
    "duration": 362,
    "start_time": "2024-07-28T23:15:54.628Z"
   },
   {
    "duration": 11,
    "start_time": "2024-07-28T23:16:00.714Z"
   },
   {
    "duration": 552,
    "start_time": "2024-07-28T23:16:06.820Z"
   },
   {
    "duration": 83,
    "start_time": "2024-07-28T23:16:18.705Z"
   },
   {
    "duration": 834,
    "start_time": "2024-07-28T23:16:46.147Z"
   },
   {
    "duration": 264,
    "start_time": "2024-07-28T23:16:48.605Z"
   },
   {
    "duration": 41,
    "start_time": "2024-07-28T23:16:51.159Z"
   },
   {
    "duration": 8,
    "start_time": "2024-07-28T23:16:53.444Z"
   },
   {
    "duration": 10,
    "start_time": "2024-07-28T23:16:55.954Z"
   },
   {
    "duration": 869,
    "start_time": "2024-07-28T23:17:50.998Z"
   },
   {
    "duration": 259,
    "start_time": "2024-07-28T23:17:53.679Z"
   },
   {
    "duration": 43,
    "start_time": "2024-07-28T23:17:56.343Z"
   },
   {
    "duration": 9,
    "start_time": "2024-07-28T23:17:58.967Z"
   },
   {
    "duration": 11,
    "start_time": "2024-07-28T23:18:01.430Z"
   },
   {
    "duration": 26,
    "start_time": "2024-07-28T23:18:04.586Z"
   },
   {
    "duration": 12,
    "start_time": "2024-07-28T23:18:07.938Z"
   },
   {
    "duration": 8,
    "start_time": "2024-07-28T23:18:12.063Z"
   },
   {
    "duration": 21,
    "start_time": "2024-07-28T23:18:13.729Z"
   },
   {
    "duration": 154,
    "start_time": "2024-07-28T23:18:16.439Z"
   },
   {
    "duration": 8,
    "start_time": "2024-07-28T23:18:21.904Z"
   },
   {
    "duration": 30,
    "start_time": "2024-07-28T23:18:25.127Z"
   },
   {
    "duration": 31,
    "start_time": "2024-07-28T23:18:26.806Z"
   },
   {
    "duration": 78,
    "start_time": "2024-07-28T23:18:29.486Z"
   },
   {
    "duration": 7,
    "start_time": "2024-07-28T23:18:32.155Z"
   },
   {
    "duration": 17,
    "start_time": "2024-07-28T23:18:34.355Z"
   },
   {
    "duration": 18,
    "start_time": "2024-07-28T23:18:35.952Z"
   },
   {
    "duration": 122,
    "start_time": "2024-07-28T23:18:38.655Z"
   },
   {
    "duration": 8,
    "start_time": "2024-07-28T23:18:41.621Z"
   },
   {
    "duration": 24,
    "start_time": "2024-07-28T23:18:44.340Z"
   },
   {
    "duration": 25,
    "start_time": "2024-07-28T23:18:46.136Z"
   },
   {
    "duration": 7,
    "start_time": "2024-07-28T23:18:49.290Z"
   },
   {
    "duration": 68,
    "start_time": "2024-07-28T23:18:52.482Z"
   },
   {
    "duration": 69,
    "start_time": "2024-07-28T23:18:54.918Z"
   },
   {
    "duration": 58,
    "start_time": "2024-07-28T23:18:57.288Z"
   },
   {
    "duration": 62,
    "start_time": "2024-07-28T23:18:58.995Z"
   },
   {
    "duration": 164,
    "start_time": "2024-07-28T23:19:02.064Z"
   },
   {
    "duration": 16,
    "start_time": "2024-07-28T23:19:05.078Z"
   },
   {
    "duration": 264,
    "start_time": "2024-07-28T23:19:09.640Z"
   },
   {
    "duration": 908,
    "start_time": "2024-07-28T23:19:13.856Z"
   },
   {
    "duration": 1223,
    "start_time": "2024-07-28T23:21:21.466Z"
   },
   {
    "duration": 104,
    "start_time": "2024-07-28T23:21:27.846Z"
   },
   {
    "duration": 344,
    "start_time": "2024-07-28T23:21:30.356Z"
   },
   {
    "duration": 61,
    "start_time": "2024-07-28T23:21:35.296Z"
   },
   {
    "duration": 7,
    "start_time": "2024-07-28T23:21:37.723Z"
   },
   {
    "duration": 316,
    "start_time": "2024-07-28T23:21:39.676Z"
   },
   {
    "duration": 46,
    "start_time": "2024-07-28T23:21:44.090Z"
   },
   {
    "duration": 6,
    "start_time": "2024-07-28T23:21:46.302Z"
   },
   {
    "duration": 337,
    "start_time": "2024-07-28T23:21:48.272Z"
   },
   {
    "duration": 8,
    "start_time": "2024-07-28T23:21:51.986Z"
   },
   {
    "duration": 6,
    "start_time": "2024-07-28T23:21:53.888Z"
   },
   {
    "duration": 321,
    "start_time": "2024-07-28T23:21:57.185Z"
   },
   {
    "duration": 12,
    "start_time": "2024-07-28T23:22:02.783Z"
   },
   {
    "duration": 569,
    "start_time": "2024-07-28T23:22:07.399Z"
   },
   {
    "duration": 169,
    "start_time": "2024-07-28T23:22:14.612Z"
   },
   {
    "duration": 689,
    "start_time": "2024-07-28T23:22:25.357Z"
   },
   {
    "duration": 81,
    "start_time": "2024-07-28T23:22:35.393Z"
   },
   {
    "duration": 81,
    "start_time": "2024-07-28T23:22:36.284Z"
   },
   {
    "duration": 82,
    "start_time": "2024-07-28T23:22:37.261Z"
   },
   {
    "duration": 81,
    "start_time": "2024-07-28T23:22:44.033Z"
   },
   {
    "duration": 320,
    "start_time": "2024-07-28T23:58:15.083Z"
   },
   {
    "duration": 24,
    "start_time": "2024-07-28T23:59:19.298Z"
   },
   {
    "duration": 30,
    "start_time": "2024-07-29T00:00:18.355Z"
   },
   {
    "duration": 26,
    "start_time": "2024-07-29T00:00:36.752Z"
   },
   {
    "duration": 867,
    "start_time": "2024-07-29T00:00:55.141Z"
   },
   {
    "duration": 3,
    "start_time": "2024-07-29T00:00:57.056Z"
   },
   {
    "duration": 381,
    "start_time": "2024-07-29T00:00:59.656Z"
   },
   {
    "duration": 893,
    "start_time": "2024-07-29T00:01:10.277Z"
   },
   {
    "duration": 283,
    "start_time": "2024-07-29T00:01:13.097Z"
   },
   {
    "duration": 44,
    "start_time": "2024-07-29T00:01:15.558Z"
   },
   {
    "duration": 7,
    "start_time": "2024-07-29T00:01:18.152Z"
   },
   {
    "duration": 12,
    "start_time": "2024-07-29T00:01:20.644Z"
   },
   {
    "duration": 26,
    "start_time": "2024-07-29T00:01:23.154Z"
   },
   {
    "duration": 8,
    "start_time": "2024-07-29T00:01:25.622Z"
   },
   {
    "duration": 7,
    "start_time": "2024-07-29T00:01:29.398Z"
   },
   {
    "duration": 21,
    "start_time": "2024-07-29T00:01:31.316Z"
   },
   {
    "duration": 169,
    "start_time": "2024-07-29T00:01:33.968Z"
   },
   {
    "duration": 8,
    "start_time": "2024-07-29T00:01:36.725Z"
   },
   {
    "duration": 28,
    "start_time": "2024-07-29T00:01:52.411Z"
   },
   {
    "duration": 37,
    "start_time": "2024-07-29T00:01:53.935Z"
   },
   {
    "duration": 78,
    "start_time": "2024-07-29T00:01:57.122Z"
   },
   {
    "duration": 6,
    "start_time": "2024-07-29T00:01:59.636Z"
   },
   {
    "duration": 17,
    "start_time": "2024-07-29T00:02:02.832Z"
   },
   {
    "duration": 20,
    "start_time": "2024-07-29T00:02:04.704Z"
   },
   {
    "duration": 123,
    "start_time": "2024-07-29T00:02:06.706Z"
   },
   {
    "duration": 9,
    "start_time": "2024-07-29T00:02:09.353Z"
   },
   {
    "duration": 22,
    "start_time": "2024-07-29T00:02:11.542Z"
   },
   {
    "duration": 27,
    "start_time": "2024-07-29T00:02:13.379Z"
   },
   {
    "duration": 8,
    "start_time": "2024-07-29T00:02:15.568Z"
   },
   {
    "duration": 63,
    "start_time": "2024-07-29T00:02:18.043Z"
   },
   {
    "duration": 67,
    "start_time": "2024-07-29T00:02:20.739Z"
   },
   {
    "duration": 60,
    "start_time": "2024-07-29T00:02:22.917Z"
   },
   {
    "duration": 61,
    "start_time": "2024-07-29T00:02:24.834Z"
   },
   {
    "duration": 168,
    "start_time": "2024-07-29T00:02:27.118Z"
   },
   {
    "duration": 15,
    "start_time": "2024-07-29T00:02:29.674Z"
   },
   {
    "duration": 249,
    "start_time": "2024-07-29T00:02:34.093Z"
   },
   {
    "duration": 4591,
    "start_time": "2024-07-29T00:02:37.645Z"
   },
   {
    "duration": 1239,
    "start_time": "2024-07-29T00:02:46.708Z"
   },
   {
    "duration": 646,
    "start_time": "2024-07-29T00:02:50.999Z"
   },
   {
    "duration": 165,
    "start_time": "2024-07-29T00:02:54.743Z"
   },
   {
    "duration": 134,
    "start_time": "2024-07-29T00:02:56.935Z"
   },
   {
    "duration": 330,
    "start_time": "2024-07-29T00:02:59.375Z"
   },
   {
    "duration": 57,
    "start_time": "2024-07-29T00:03:02.644Z"
   },
   {
    "duration": 7,
    "start_time": "2024-07-29T00:03:04.474Z"
   },
   {
    "duration": 314,
    "start_time": "2024-07-29T00:03:06.389Z"
   },
   {
    "duration": 48,
    "start_time": "2024-07-29T00:03:09.089Z"
   },
   {
    "duration": 6,
    "start_time": "2024-07-29T00:03:11.077Z"
   },
   {
    "duration": 339,
    "start_time": "2024-07-29T00:03:15.273Z"
   },
   {
    "duration": 344,
    "start_time": "2024-07-29T00:03:49.957Z"
   },
   {
    "duration": 12,
    "start_time": "2024-07-29T00:03:56.406Z"
   },
   {
    "duration": 565,
    "start_time": "2024-07-29T00:04:00.542Z"
   },
   {
    "duration": 84,
    "start_time": "2024-07-29T00:04:21.578Z"
   },
   {
    "duration": 84,
    "start_time": "2024-07-29T00:06:07.483Z"
   },
   {
    "duration": 86,
    "start_time": "2024-07-29T00:06:27.723Z"
   },
   {
    "duration": 34,
    "start_time": "2024-07-29T00:06:55.920Z"
   },
   {
    "duration": 16,
    "start_time": "2024-07-29T00:07:27.998Z"
   },
   {
    "duration": 44,
    "start_time": "2024-07-29T00:08:24.974Z"
   },
   {
    "duration": 43,
    "start_time": "2024-07-29T00:09:41.900Z"
   },
   {
    "duration": 28,
    "start_time": "2024-07-29T00:11:38.566Z"
   },
   {
    "duration": 105,
    "start_time": "2024-07-29T00:12:36.489Z"
   },
   {
    "duration": 22,
    "start_time": "2024-07-29T00:12:41.334Z"
   }
  ],
  "colab": {
   "provenance": []
  },
  "kernelspec": {
   "display_name": "Python 3 (ipykernel)",
   "language": "python",
   "name": "python3"
  },
  "language_info": {
   "codemirror_mode": {
    "name": "ipython",
    "version": 3
   },
   "file_extension": ".py",
   "mimetype": "text/x-python",
   "name": "python",
   "nbconvert_exporter": "python",
   "pygments_lexer": "ipython3",
   "version": "3.9.19"
  },
  "toc": {
   "base_numbering": 1,
   "nav_menu": {},
   "number_sections": true,
   "sideBar": true,
   "skip_h1_title": false,
   "title_cell": "Table of Contents",
   "title_sidebar": "Contents",
   "toc_cell": false,
   "toc_position": {},
   "toc_section_display": true,
   "toc_window_display": true
  }
 },
 "nbformat": 4,
 "nbformat_minor": 1
}
